{
 "cells": [
  {
   "cell_type": "code",
   "execution_count": 1,
   "metadata": {},
   "outputs": [
    {
     "name": "stdout",
     "output_type": "stream",
     "text": [
      "Requirement already satisfied: plotly in c:\\users\\asus\\appdata\\roaming\\python\\python38\\site-packages (5.2.1)\n",
      "Requirement already satisfied: tenacity>=6.2.0 in c:\\users\\asus\\appdata\\roaming\\python\\python38\\site-packages (from plotly) (8.0.1)\n",
      "Requirement already satisfied: six in c:\\users\\asus\\anaconda\\lib\\site-packages (from plotly) (1.15.0)\n",
      "Note: you may need to restart the kernel to use updated packages.\n"
     ]
    }
   ],
   "source": [
    "pip install plotly"
   ]
  },
  {
   "cell_type": "code",
   "execution_count": 4,
   "metadata": {},
   "outputs": [
    {
     "data": {
      "text/html": [
       "        <script type=\"text/javascript\">\n",
       "        window.PlotlyConfig = {MathJaxConfig: 'local'};\n",
       "        if (window.MathJax) {MathJax.Hub.Config({SVG: {font: \"STIX-Web\"}});}\n",
       "        if (typeof require !== 'undefined') {\n",
       "        require.undef(\"plotly\");\n",
       "        requirejs.config({\n",
       "            paths: {\n",
       "                'plotly': ['https://cdn.plot.ly/plotly-2.3.1.min']\n",
       "            }\n",
       "        });\n",
       "        require(['plotly'], function(Plotly) {\n",
       "            window._Plotly = Plotly;\n",
       "        });\n",
       "        }\n",
       "        </script>\n",
       "        "
      ]
     },
     "metadata": {},
     "output_type": "display_data"
    }
   ],
   "source": [
    "import plotly.graph_objs as go\n",
    "from plotly.offline import init_notebook_mode, iplot, plot\n",
    "init_notebook_mode(connected=True)"
   ]
  },
  {
   "cell_type": "code",
   "execution_count": 5,
   "metadata": {},
   "outputs": [],
   "source": [
    "import pandas as pd"
   ]
  },
  {
   "cell_type": "code",
   "execution_count": 6,
   "metadata": {},
   "outputs": [],
   "source": [
    "df=pd.read_csv(\"2014_World_Power_Consumption\")"
   ]
  },
  {
   "cell_type": "code",
   "execution_count": 7,
   "metadata": {},
   "outputs": [
    {
     "data": {
      "text/html": [
       "<div>\n",
       "<style scoped>\n",
       "    .dataframe tbody tr th:only-of-type {\n",
       "        vertical-align: middle;\n",
       "    }\n",
       "\n",
       "    .dataframe tbody tr th {\n",
       "        vertical-align: top;\n",
       "    }\n",
       "\n",
       "    .dataframe thead th {\n",
       "        text-align: right;\n",
       "    }\n",
       "</style>\n",
       "<table border=\"1\" class=\"dataframe\">\n",
       "  <thead>\n",
       "    <tr style=\"text-align: right;\">\n",
       "      <th></th>\n",
       "      <th>Country</th>\n",
       "      <th>Power Consumption KWH</th>\n",
       "      <th>Text</th>\n",
       "    </tr>\n",
       "  </thead>\n",
       "  <tbody>\n",
       "    <tr>\n",
       "      <th>0</th>\n",
       "      <td>China</td>\n",
       "      <td>5.523000e+12</td>\n",
       "      <td>China 5,523,000,000,000</td>\n",
       "    </tr>\n",
       "    <tr>\n",
       "      <th>1</th>\n",
       "      <td>United States</td>\n",
       "      <td>3.832000e+12</td>\n",
       "      <td>United 3,832,000,000,000</td>\n",
       "    </tr>\n",
       "    <tr>\n",
       "      <th>2</th>\n",
       "      <td>European</td>\n",
       "      <td>2.771000e+12</td>\n",
       "      <td>European 2,771,000,000,000</td>\n",
       "    </tr>\n",
       "    <tr>\n",
       "      <th>3</th>\n",
       "      <td>Russia</td>\n",
       "      <td>1.065000e+12</td>\n",
       "      <td>Russia 1,065,000,000,000</td>\n",
       "    </tr>\n",
       "    <tr>\n",
       "      <th>4</th>\n",
       "      <td>Japan</td>\n",
       "      <td>9.210000e+11</td>\n",
       "      <td>Japan 921,000,000,000</td>\n",
       "    </tr>\n",
       "  </tbody>\n",
       "</table>\n",
       "</div>"
      ],
      "text/plain": [
       "         Country  Power Consumption KWH                        Text\n",
       "0          China           5.523000e+12     China 5,523,000,000,000\n",
       "1  United States           3.832000e+12    United 3,832,000,000,000\n",
       "2       European           2.771000e+12  European 2,771,000,000,000\n",
       "3         Russia           1.065000e+12    Russia 1,065,000,000,000\n",
       "4          Japan           9.210000e+11       Japan 921,000,000,000"
      ]
     },
     "execution_count": 7,
     "metadata": {},
     "output_type": "execute_result"
    }
   ],
   "source": [
    "df.head()"
   ]
  },
  {
   "cell_type": "code",
   "execution_count": 8,
   "metadata": {},
   "outputs": [],
   "source": [
    "data=dict(\n",
    "      type= \"choropleth\",\n",
    "      colorscale= \"Viridis\",\n",
    "      reversescale=True,\n",
    "      locations=df[\"Country\"],\n",
    "      locationmode=\"country names\",\n",
    "      z=df[\"Power Consumption KWH\"], \n",
    "      text=df[\"Country\"],\n",
    "      colorbar= {\"title\":\"Power Consumption KWH\"},\n",
    "   )  \n",
    "layout= dict(title=\"2014 Power Consumption KWH\",\n",
    "               geo=dict(showframe=False,projection={\"type\":\"mercator\"})\n",
    "            )"
   ]
  },
  {
   "cell_type": "code",
   "execution_count": 9,
   "metadata": {},
   "outputs": [
    {
     "data": {
      "application/vnd.plotly.v1+json": {
       "config": {
        "linkText": "Export to plot.ly",
        "plotlyServerURL": "https://plot.ly",
        "showLink": false
       },
       "data": [
        {
         "colorbar": {
          "title": {
           "text": "Power Consumption KWH"
          }
         },
         "colorscale": [
          [
           0,
           "#440154"
          ],
          [
           0.1111111111111111,
           "#482878"
          ],
          [
           0.2222222222222222,
           "#3e4989"
          ],
          [
           0.3333333333333333,
           "#31688e"
          ],
          [
           0.4444444444444444,
           "#26828e"
          ],
          [
           0.5555555555555556,
           "#1f9e89"
          ],
          [
           0.6666666666666666,
           "#35b779"
          ],
          [
           0.7777777777777778,
           "#6ece58"
          ],
          [
           0.8888888888888888,
           "#b5de2b"
          ],
          [
           1,
           "#fde725"
          ]
         ],
         "locationmode": "country names",
         "locations": [
          "China",
          "United States",
          "European",
          "Russia",
          "Japan",
          "India",
          "Germany",
          "Canada",
          "Brazil",
          "Korea,",
          "France",
          "United Kingdom",
          "Italy",
          "Taiwan",
          "Spain",
          "Mexico",
          "Saudi",
          "Australia",
          "South",
          "Turkey",
          "Iran",
          "Indonesia",
          "Ukraine",
          "Thailand",
          "Poland",
          "Egypt",
          "Sweden",
          "Norway",
          "Malaysia",
          "Argentina",
          "Netherlands",
          "Vietnam",
          "Venezuela",
          "United Arab Emirates",
          "Finland",
          "Belgium",
          "Kazakhstan",
          "Pakistan",
          "Philippines",
          "Austria",
          "Chile",
          "Czechia",
          "Israel",
          "Switzerland",
          "Greece",
          "Iraq",
          "Romania",
          "Kuwait",
          "Colombia",
          "Singapore",
          "Portugal",
          "Uzbekistan",
          "Hong",
          "Algeria",
          "Bangladesh",
          "New",
          "Bulgaria",
          "Belarus",
          "Peru",
          "Denmark",
          "Qatar",
          "Slovakia",
          "Libya",
          "Serbia",
          "Morocco",
          "Syria",
          "Nigeria",
          "Ireland",
          "Hungary",
          "Oman",
          "Ecuador",
          "Puerto",
          "Azerbaijan",
          "Croatia",
          "Iceland",
          "Cuba",
          "Korea,",
          "Dominican",
          "Jordan",
          "Tajikistan",
          "Tunisia",
          "Slovenia",
          "Lebanon",
          "Bosnia",
          "Turkmenistan",
          "Bahrain",
          "Mozambique",
          "Ghana",
          "Sri",
          "Kyrgyzstan",
          "Lithuania",
          "Uruguay",
          "Costa",
          "Guatemala",
          "Georgia",
          "Trinidad",
          "Zambia",
          "Paraguay",
          "Albania",
          "Burma",
          "Estonia",
          "Congo,",
          "Panama",
          "Latvia",
          "Macedonia",
          "Zimbabwe",
          "Kenya",
          "Bolivia",
          "Luxembourg",
          "Sudan",
          "El",
          "Cameroon",
          "West",
          "Ethiopia",
          "Armenia",
          "Honduras",
          "Angola",
          "Cote",
          "Tanzania",
          "Nicaragua",
          "Moldova",
          "Cyprus",
          "Macau",
          "Namibia",
          "Mongolia",
          "Afghanistan",
          "Yemen",
          "Brunei",
          "Cambodia",
          "Montenegro",
          "Nepal",
          "Botswana",
          "Papua",
          "Jamaica",
          "Kosovo",
          "Laos",
          "Uganda",
          "New",
          "Mauritius",
          "Senegal",
          "Bhutan",
          "Malawi",
          "Madagascar",
          "Bahamas,",
          "Gabon",
          "Suriname",
          "Guam",
          "Liechtenstein",
          "Swaziland",
          "Burkina",
          "Togo",
          "Curacao",
          "Mauritania",
          "Barbados",
          "Niger",
          "Aruba",
          "Benin",
          "Guinea",
          "Mali",
          "Fiji",
          "Congo,",
          "Virgin",
          "Lesotho",
          "South",
          "Bermuda",
          "French",
          "Jersey",
          "Belize",
          "Andorra",
          "Guyana",
          "Cayman",
          "Haiti",
          "Rwanda",
          "Saint",
          "Djibouti",
          "Seychelles",
          "Somalia",
          "Antigua",
          "Greenland",
          "Cabo",
          "Eritrea",
          "Burundi",
          "Liberia",
          "Maldives",
          "Faroe",
          "Gambia,",
          "Chad",
          "Micronesia,",
          "Grenada",
          "Central",
          "Turks",
          "Gibraltar",
          "American",
          "Sierra",
          "Saint",
          "Saint",
          "Timor-Leste",
          "Equatorial",
          "Samoa",
          "Dominica",
          "Western",
          "Solomon",
          "Sao",
          "British",
          "Vanuatu",
          "Guinea-Bissau",
          "Tonga",
          "Saint",
          "Comoros",
          "Cook",
          "Kiribati",
          "Montserrat",
          "Nauru",
          "Falkland",
          "Saint",
          "Niue",
          "Gaza",
          "Malta",
          "Northern"
         ],
         "reversescale": true,
         "text": [
          "China",
          "United States",
          "European",
          "Russia",
          "Japan",
          "India",
          "Germany",
          "Canada",
          "Brazil",
          "Korea,",
          "France",
          "United Kingdom",
          "Italy",
          "Taiwan",
          "Spain",
          "Mexico",
          "Saudi",
          "Australia",
          "South",
          "Turkey",
          "Iran",
          "Indonesia",
          "Ukraine",
          "Thailand",
          "Poland",
          "Egypt",
          "Sweden",
          "Norway",
          "Malaysia",
          "Argentina",
          "Netherlands",
          "Vietnam",
          "Venezuela",
          "United Arab Emirates",
          "Finland",
          "Belgium",
          "Kazakhstan",
          "Pakistan",
          "Philippines",
          "Austria",
          "Chile",
          "Czechia",
          "Israel",
          "Switzerland",
          "Greece",
          "Iraq",
          "Romania",
          "Kuwait",
          "Colombia",
          "Singapore",
          "Portugal",
          "Uzbekistan",
          "Hong",
          "Algeria",
          "Bangladesh",
          "New",
          "Bulgaria",
          "Belarus",
          "Peru",
          "Denmark",
          "Qatar",
          "Slovakia",
          "Libya",
          "Serbia",
          "Morocco",
          "Syria",
          "Nigeria",
          "Ireland",
          "Hungary",
          "Oman",
          "Ecuador",
          "Puerto",
          "Azerbaijan",
          "Croatia",
          "Iceland",
          "Cuba",
          "Korea,",
          "Dominican",
          "Jordan",
          "Tajikistan",
          "Tunisia",
          "Slovenia",
          "Lebanon",
          "Bosnia",
          "Turkmenistan",
          "Bahrain",
          "Mozambique",
          "Ghana",
          "Sri",
          "Kyrgyzstan",
          "Lithuania",
          "Uruguay",
          "Costa",
          "Guatemala",
          "Georgia",
          "Trinidad",
          "Zambia",
          "Paraguay",
          "Albania",
          "Burma",
          "Estonia",
          "Congo,",
          "Panama",
          "Latvia",
          "Macedonia",
          "Zimbabwe",
          "Kenya",
          "Bolivia",
          "Luxembourg",
          "Sudan",
          "El",
          "Cameroon",
          "West",
          "Ethiopia",
          "Armenia",
          "Honduras",
          "Angola",
          "Cote",
          "Tanzania",
          "Nicaragua",
          "Moldova",
          "Cyprus",
          "Macau",
          "Namibia",
          "Mongolia",
          "Afghanistan",
          "Yemen",
          "Brunei",
          "Cambodia",
          "Montenegro",
          "Nepal",
          "Botswana",
          "Papua",
          "Jamaica",
          "Kosovo",
          "Laos",
          "Uganda",
          "New",
          "Mauritius",
          "Senegal",
          "Bhutan",
          "Malawi",
          "Madagascar",
          "Bahamas,",
          "Gabon",
          "Suriname",
          "Guam",
          "Liechtenstein",
          "Swaziland",
          "Burkina",
          "Togo",
          "Curacao",
          "Mauritania",
          "Barbados",
          "Niger",
          "Aruba",
          "Benin",
          "Guinea",
          "Mali",
          "Fiji",
          "Congo,",
          "Virgin",
          "Lesotho",
          "South",
          "Bermuda",
          "French",
          "Jersey",
          "Belize",
          "Andorra",
          "Guyana",
          "Cayman",
          "Haiti",
          "Rwanda",
          "Saint",
          "Djibouti",
          "Seychelles",
          "Somalia",
          "Antigua",
          "Greenland",
          "Cabo",
          "Eritrea",
          "Burundi",
          "Liberia",
          "Maldives",
          "Faroe",
          "Gambia,",
          "Chad",
          "Micronesia,",
          "Grenada",
          "Central",
          "Turks",
          "Gibraltar",
          "American",
          "Sierra",
          "Saint",
          "Saint",
          "Timor-Leste",
          "Equatorial",
          "Samoa",
          "Dominica",
          "Western",
          "Solomon",
          "Sao",
          "British",
          "Vanuatu",
          "Guinea-Bissau",
          "Tonga",
          "Saint",
          "Comoros",
          "Cook",
          "Kiribati",
          "Montserrat",
          "Nauru",
          "Falkland",
          "Saint",
          "Niue",
          "Gaza",
          "Malta",
          "Northern"
         ],
         "type": "choropleth",
         "z": [
          5523000000000,
          3832000000000,
          2771000000000,
          1065000000000,
          921000000000,
          864700000000,
          540100000000,
          511000000000,
          483500000000,
          482400000000,
          451100000000,
          319100000000,
          303100000000,
          249500000000,
          243100000000,
          234000000000,
          231600000000,
          222600000000,
          211600000000,
          197000000000,
          195300000000,
          167500000000,
          159800000000,
          155900000000,
          139000000000,
          135600000000,
          130500000000,
          126400000000,
          118500000000,
          117100000000,
          116800000000,
          108300000000,
          97690000000,
          93280000000,
          82040000000,
          81890000000,
          80290000000,
          78890000000,
          75270000000,
          69750000000,
          63390000000,
          60550000000,
          59830000000,
          58010000000,
          57730000000,
          53410000000,
          50730000000,
          50000000000,
          49380000000,
          47180000000,
          46250000000,
          45210000000,
          44210000000,
          42870000000,
          41520000000,
          40300000000,
          37990000000,
          37880000000,
          35690000000,
          31960000000,
          30530000000,
          28360000000,
          27540000000,
          26910000000,
          26700000000,
          25700000000,
          24780000000,
          24240000000,
          21550000000,
          20360000000,
          19020000000,
          18620000000,
          17790000000,
          16970000000,
          16940000000,
          16200000000,
          16000000000,
          15140000000,
          14560000000,
          14420000000,
          13310000000,
          13020000000,
          12940000000,
          12560000000,
          11750000000,
          11690000000,
          11280000000,
          10580000000,
          10170000000,
          9943000000,
          9664000000,
          9559000000,
          8987000000,
          8915000000,
          8468000000,
          8365000000,
          8327000000,
          8125000000,
          7793000000,
          7765000000,
          7417000000,
          7292000000,
          7144000000,
          7141000000,
          6960000000,
          6831000000,
          6627000000,
          6456000000,
          6108000000,
          5665000000,
          5665000000,
          5535000000,
          5312000000,
          5227000000,
          5043000000,
          5036000000,
          4842000000,
          4731000000,
          4545000000,
          4412000000,
          4305000000,
          4296000000,
          4291000000,
          4238000000,
          4204000000,
          3893000000,
          3838000000,
          3766000000,
          3553000000,
          3465000000,
          3239000000,
          3213000000,
          3116000000,
          3008000000,
          2887000000,
          2874000000,
          2821000000,
          2716000000,
          2658000000,
          2586000000,
          2085000000,
          2027000000,
          1883000000,
          1716000000,
          1680000000,
          1572000000,
          1566000000,
          1360000000,
          1295000000,
          985500000,
          976000000,
          968000000,
          962600000,
          938000000,
          930200000,
          920700000,
          911000000,
          903000000,
          882600000,
          777600000,
          740000000,
          723500000,
          707000000,
          694100000,
          664200000,
          652900000,
          630100000,
          605000000,
          562400000,
          558000000,
          545900000,
          452000000,
          365500000,
          336400000,
          311600000,
          293900000,
          293000000,
          293000000,
          292000000,
          285500000,
          284000000,
          282900000,
          276900000,
          267100000,
          261300000,
          218600000,
          190700000,
          178600000,
          178000000,
          168300000,
          167400000,
          160000000,
          146000000,
          134900000,
          130200000,
          127400000,
          125300000,
          93000000,
          90400000,
          89750000,
          83700000,
          79050000,
          60450000,
          51150000,
          49290000,
          46500000,
          44640000,
          39990000,
          39990000,
          28950000,
          24180000,
          23250000,
          23250000,
          11160000,
          7440000,
          2790000,
          202000,
          174700,
          48300
         ]
        }
       ],
       "layout": {
        "geo": {
         "projection": {
          "type": "mercator"
         },
         "showframe": false
        },
        "template": {
         "data": {
          "bar": [
           {
            "error_x": {
             "color": "#2a3f5f"
            },
            "error_y": {
             "color": "#2a3f5f"
            },
            "marker": {
             "line": {
              "color": "#E5ECF6",
              "width": 0.5
             },
             "pattern": {
              "fillmode": "overlay",
              "size": 10,
              "solidity": 0.2
             }
            },
            "type": "bar"
           }
          ],
          "barpolar": [
           {
            "marker": {
             "line": {
              "color": "#E5ECF6",
              "width": 0.5
             },
             "pattern": {
              "fillmode": "overlay",
              "size": 10,
              "solidity": 0.2
             }
            },
            "type": "barpolar"
           }
          ],
          "carpet": [
           {
            "aaxis": {
             "endlinecolor": "#2a3f5f",
             "gridcolor": "white",
             "linecolor": "white",
             "minorgridcolor": "white",
             "startlinecolor": "#2a3f5f"
            },
            "baxis": {
             "endlinecolor": "#2a3f5f",
             "gridcolor": "white",
             "linecolor": "white",
             "minorgridcolor": "white",
             "startlinecolor": "#2a3f5f"
            },
            "type": "carpet"
           }
          ],
          "choropleth": [
           {
            "colorbar": {
             "outlinewidth": 0,
             "ticks": ""
            },
            "type": "choropleth"
           }
          ],
          "contour": [
           {
            "colorbar": {
             "outlinewidth": 0,
             "ticks": ""
            },
            "colorscale": [
             [
              0,
              "#0d0887"
             ],
             [
              0.1111111111111111,
              "#46039f"
             ],
             [
              0.2222222222222222,
              "#7201a8"
             ],
             [
              0.3333333333333333,
              "#9c179e"
             ],
             [
              0.4444444444444444,
              "#bd3786"
             ],
             [
              0.5555555555555556,
              "#d8576b"
             ],
             [
              0.6666666666666666,
              "#ed7953"
             ],
             [
              0.7777777777777778,
              "#fb9f3a"
             ],
             [
              0.8888888888888888,
              "#fdca26"
             ],
             [
              1,
              "#f0f921"
             ]
            ],
            "type": "contour"
           }
          ],
          "contourcarpet": [
           {
            "colorbar": {
             "outlinewidth": 0,
             "ticks": ""
            },
            "type": "contourcarpet"
           }
          ],
          "heatmap": [
           {
            "colorbar": {
             "outlinewidth": 0,
             "ticks": ""
            },
            "colorscale": [
             [
              0,
              "#0d0887"
             ],
             [
              0.1111111111111111,
              "#46039f"
             ],
             [
              0.2222222222222222,
              "#7201a8"
             ],
             [
              0.3333333333333333,
              "#9c179e"
             ],
             [
              0.4444444444444444,
              "#bd3786"
             ],
             [
              0.5555555555555556,
              "#d8576b"
             ],
             [
              0.6666666666666666,
              "#ed7953"
             ],
             [
              0.7777777777777778,
              "#fb9f3a"
             ],
             [
              0.8888888888888888,
              "#fdca26"
             ],
             [
              1,
              "#f0f921"
             ]
            ],
            "type": "heatmap"
           }
          ],
          "heatmapgl": [
           {
            "colorbar": {
             "outlinewidth": 0,
             "ticks": ""
            },
            "colorscale": [
             [
              0,
              "#0d0887"
             ],
             [
              0.1111111111111111,
              "#46039f"
             ],
             [
              0.2222222222222222,
              "#7201a8"
             ],
             [
              0.3333333333333333,
              "#9c179e"
             ],
             [
              0.4444444444444444,
              "#bd3786"
             ],
             [
              0.5555555555555556,
              "#d8576b"
             ],
             [
              0.6666666666666666,
              "#ed7953"
             ],
             [
              0.7777777777777778,
              "#fb9f3a"
             ],
             [
              0.8888888888888888,
              "#fdca26"
             ],
             [
              1,
              "#f0f921"
             ]
            ],
            "type": "heatmapgl"
           }
          ],
          "histogram": [
           {
            "marker": {
             "pattern": {
              "fillmode": "overlay",
              "size": 10,
              "solidity": 0.2
             }
            },
            "type": "histogram"
           }
          ],
          "histogram2d": [
           {
            "colorbar": {
             "outlinewidth": 0,
             "ticks": ""
            },
            "colorscale": [
             [
              0,
              "#0d0887"
             ],
             [
              0.1111111111111111,
              "#46039f"
             ],
             [
              0.2222222222222222,
              "#7201a8"
             ],
             [
              0.3333333333333333,
              "#9c179e"
             ],
             [
              0.4444444444444444,
              "#bd3786"
             ],
             [
              0.5555555555555556,
              "#d8576b"
             ],
             [
              0.6666666666666666,
              "#ed7953"
             ],
             [
              0.7777777777777778,
              "#fb9f3a"
             ],
             [
              0.8888888888888888,
              "#fdca26"
             ],
             [
              1,
              "#f0f921"
             ]
            ],
            "type": "histogram2d"
           }
          ],
          "histogram2dcontour": [
           {
            "colorbar": {
             "outlinewidth": 0,
             "ticks": ""
            },
            "colorscale": [
             [
              0,
              "#0d0887"
             ],
             [
              0.1111111111111111,
              "#46039f"
             ],
             [
              0.2222222222222222,
              "#7201a8"
             ],
             [
              0.3333333333333333,
              "#9c179e"
             ],
             [
              0.4444444444444444,
              "#bd3786"
             ],
             [
              0.5555555555555556,
              "#d8576b"
             ],
             [
              0.6666666666666666,
              "#ed7953"
             ],
             [
              0.7777777777777778,
              "#fb9f3a"
             ],
             [
              0.8888888888888888,
              "#fdca26"
             ],
             [
              1,
              "#f0f921"
             ]
            ],
            "type": "histogram2dcontour"
           }
          ],
          "mesh3d": [
           {
            "colorbar": {
             "outlinewidth": 0,
             "ticks": ""
            },
            "type": "mesh3d"
           }
          ],
          "parcoords": [
           {
            "line": {
             "colorbar": {
              "outlinewidth": 0,
              "ticks": ""
             }
            },
            "type": "parcoords"
           }
          ],
          "pie": [
           {
            "automargin": true,
            "type": "pie"
           }
          ],
          "scatter": [
           {
            "marker": {
             "colorbar": {
              "outlinewidth": 0,
              "ticks": ""
             }
            },
            "type": "scatter"
           }
          ],
          "scatter3d": [
           {
            "line": {
             "colorbar": {
              "outlinewidth": 0,
              "ticks": ""
             }
            },
            "marker": {
             "colorbar": {
              "outlinewidth": 0,
              "ticks": ""
             }
            },
            "type": "scatter3d"
           }
          ],
          "scattercarpet": [
           {
            "marker": {
             "colorbar": {
              "outlinewidth": 0,
              "ticks": ""
             }
            },
            "type": "scattercarpet"
           }
          ],
          "scattergeo": [
           {
            "marker": {
             "colorbar": {
              "outlinewidth": 0,
              "ticks": ""
             }
            },
            "type": "scattergeo"
           }
          ],
          "scattergl": [
           {
            "marker": {
             "colorbar": {
              "outlinewidth": 0,
              "ticks": ""
             }
            },
            "type": "scattergl"
           }
          ],
          "scattermapbox": [
           {
            "marker": {
             "colorbar": {
              "outlinewidth": 0,
              "ticks": ""
             }
            },
            "type": "scattermapbox"
           }
          ],
          "scatterpolar": [
           {
            "marker": {
             "colorbar": {
              "outlinewidth": 0,
              "ticks": ""
             }
            },
            "type": "scatterpolar"
           }
          ],
          "scatterpolargl": [
           {
            "marker": {
             "colorbar": {
              "outlinewidth": 0,
              "ticks": ""
             }
            },
            "type": "scatterpolargl"
           }
          ],
          "scatterternary": [
           {
            "marker": {
             "colorbar": {
              "outlinewidth": 0,
              "ticks": ""
             }
            },
            "type": "scatterternary"
           }
          ],
          "surface": [
           {
            "colorbar": {
             "outlinewidth": 0,
             "ticks": ""
            },
            "colorscale": [
             [
              0,
              "#0d0887"
             ],
             [
              0.1111111111111111,
              "#46039f"
             ],
             [
              0.2222222222222222,
              "#7201a8"
             ],
             [
              0.3333333333333333,
              "#9c179e"
             ],
             [
              0.4444444444444444,
              "#bd3786"
             ],
             [
              0.5555555555555556,
              "#d8576b"
             ],
             [
              0.6666666666666666,
              "#ed7953"
             ],
             [
              0.7777777777777778,
              "#fb9f3a"
             ],
             [
              0.8888888888888888,
              "#fdca26"
             ],
             [
              1,
              "#f0f921"
             ]
            ],
            "type": "surface"
           }
          ],
          "table": [
           {
            "cells": {
             "fill": {
              "color": "#EBF0F8"
             },
             "line": {
              "color": "white"
             }
            },
            "header": {
             "fill": {
              "color": "#C8D4E3"
             },
             "line": {
              "color": "white"
             }
            },
            "type": "table"
           }
          ]
         },
         "layout": {
          "annotationdefaults": {
           "arrowcolor": "#2a3f5f",
           "arrowhead": 0,
           "arrowwidth": 1
          },
          "autotypenumbers": "strict",
          "coloraxis": {
           "colorbar": {
            "outlinewidth": 0,
            "ticks": ""
           }
          },
          "colorscale": {
           "diverging": [
            [
             0,
             "#8e0152"
            ],
            [
             0.1,
             "#c51b7d"
            ],
            [
             0.2,
             "#de77ae"
            ],
            [
             0.3,
             "#f1b6da"
            ],
            [
             0.4,
             "#fde0ef"
            ],
            [
             0.5,
             "#f7f7f7"
            ],
            [
             0.6,
             "#e6f5d0"
            ],
            [
             0.7,
             "#b8e186"
            ],
            [
             0.8,
             "#7fbc41"
            ],
            [
             0.9,
             "#4d9221"
            ],
            [
             1,
             "#276419"
            ]
           ],
           "sequential": [
            [
             0,
             "#0d0887"
            ],
            [
             0.1111111111111111,
             "#46039f"
            ],
            [
             0.2222222222222222,
             "#7201a8"
            ],
            [
             0.3333333333333333,
             "#9c179e"
            ],
            [
             0.4444444444444444,
             "#bd3786"
            ],
            [
             0.5555555555555556,
             "#d8576b"
            ],
            [
             0.6666666666666666,
             "#ed7953"
            ],
            [
             0.7777777777777778,
             "#fb9f3a"
            ],
            [
             0.8888888888888888,
             "#fdca26"
            ],
            [
             1,
             "#f0f921"
            ]
           ],
           "sequentialminus": [
            [
             0,
             "#0d0887"
            ],
            [
             0.1111111111111111,
             "#46039f"
            ],
            [
             0.2222222222222222,
             "#7201a8"
            ],
            [
             0.3333333333333333,
             "#9c179e"
            ],
            [
             0.4444444444444444,
             "#bd3786"
            ],
            [
             0.5555555555555556,
             "#d8576b"
            ],
            [
             0.6666666666666666,
             "#ed7953"
            ],
            [
             0.7777777777777778,
             "#fb9f3a"
            ],
            [
             0.8888888888888888,
             "#fdca26"
            ],
            [
             1,
             "#f0f921"
            ]
           ]
          },
          "colorway": [
           "#636efa",
           "#EF553B",
           "#00cc96",
           "#ab63fa",
           "#FFA15A",
           "#19d3f3",
           "#FF6692",
           "#B6E880",
           "#FF97FF",
           "#FECB52"
          ],
          "font": {
           "color": "#2a3f5f"
          },
          "geo": {
           "bgcolor": "white",
           "lakecolor": "white",
           "landcolor": "#E5ECF6",
           "showlakes": true,
           "showland": true,
           "subunitcolor": "white"
          },
          "hoverlabel": {
           "align": "left"
          },
          "hovermode": "closest",
          "mapbox": {
           "style": "light"
          },
          "paper_bgcolor": "white",
          "plot_bgcolor": "#E5ECF6",
          "polar": {
           "angularaxis": {
            "gridcolor": "white",
            "linecolor": "white",
            "ticks": ""
           },
           "bgcolor": "#E5ECF6",
           "radialaxis": {
            "gridcolor": "white",
            "linecolor": "white",
            "ticks": ""
           }
          },
          "scene": {
           "xaxis": {
            "backgroundcolor": "#E5ECF6",
            "gridcolor": "white",
            "gridwidth": 2,
            "linecolor": "white",
            "showbackground": true,
            "ticks": "",
            "zerolinecolor": "white"
           },
           "yaxis": {
            "backgroundcolor": "#E5ECF6",
            "gridcolor": "white",
            "gridwidth": 2,
            "linecolor": "white",
            "showbackground": true,
            "ticks": "",
            "zerolinecolor": "white"
           },
           "zaxis": {
            "backgroundcolor": "#E5ECF6",
            "gridcolor": "white",
            "gridwidth": 2,
            "linecolor": "white",
            "showbackground": true,
            "ticks": "",
            "zerolinecolor": "white"
           }
          },
          "shapedefaults": {
           "line": {
            "color": "#2a3f5f"
           }
          },
          "ternary": {
           "aaxis": {
            "gridcolor": "white",
            "linecolor": "white",
            "ticks": ""
           },
           "baxis": {
            "gridcolor": "white",
            "linecolor": "white",
            "ticks": ""
           },
           "bgcolor": "#E5ECF6",
           "caxis": {
            "gridcolor": "white",
            "linecolor": "white",
            "ticks": ""
           }
          },
          "title": {
           "x": 0.05
          },
          "xaxis": {
           "automargin": true,
           "gridcolor": "white",
           "linecolor": "white",
           "ticks": "",
           "title": {
            "standoff": 15
           },
           "zerolinecolor": "white",
           "zerolinewidth": 2
          },
          "yaxis": {
           "automargin": true,
           "gridcolor": "white",
           "linecolor": "white",
           "ticks": "",
           "title": {
            "standoff": 15
           },
           "zerolinecolor": "white",
           "zerolinewidth": 2
          }
         }
        },
        "title": {
         "text": "2014 Power Consumption KWH"
        }
       }
      },
      "text/html": [
       "<div>                            <div id=\"9936b80f-0d2c-4926-9cba-b802631db021\" class=\"plotly-graph-div\" style=\"height:525px; width:100%;\"></div>            <script type=\"text/javascript\">                require([\"plotly\"], function(Plotly) {                    window.PLOTLYENV=window.PLOTLYENV || {};                                    if (document.getElementById(\"9936b80f-0d2c-4926-9cba-b802631db021\")) {                    Plotly.newPlot(                        \"9936b80f-0d2c-4926-9cba-b802631db021\",                        [{\"colorbar\":{\"title\":{\"text\":\"Power Consumption KWH\"}},\"colorscale\":[[0.0,\"#440154\"],[0.1111111111111111,\"#482878\"],[0.2222222222222222,\"#3e4989\"],[0.3333333333333333,\"#31688e\"],[0.4444444444444444,\"#26828e\"],[0.5555555555555556,\"#1f9e89\"],[0.6666666666666666,\"#35b779\"],[0.7777777777777778,\"#6ece58\"],[0.8888888888888888,\"#b5de2b\"],[1.0,\"#fde725\"]],\"locationmode\":\"country names\",\"locations\":[\"China\",\"United States\",\"European\",\"Russia\",\"Japan\",\"India\",\"Germany\",\"Canada\",\"Brazil\",\"Korea,\",\"France\",\"United Kingdom\",\"Italy\",\"Taiwan\",\"Spain\",\"Mexico\",\"Saudi\",\"Australia\",\"South\",\"Turkey\",\"Iran\",\"Indonesia\",\"Ukraine\",\"Thailand\",\"Poland\",\"Egypt\",\"Sweden\",\"Norway\",\"Malaysia\",\"Argentina\",\"Netherlands\",\"Vietnam\",\"Venezuela\",\"United Arab Emirates\",\"Finland\",\"Belgium\",\"Kazakhstan\",\"Pakistan\",\"Philippines\",\"Austria\",\"Chile\",\"Czechia\",\"Israel\",\"Switzerland\",\"Greece\",\"Iraq\",\"Romania\",\"Kuwait\",\"Colombia\",\"Singapore\",\"Portugal\",\"Uzbekistan\",\"Hong\",\"Algeria\",\"Bangladesh\",\"New\",\"Bulgaria\",\"Belarus\",\"Peru\",\"Denmark\",\"Qatar\",\"Slovakia\",\"Libya\",\"Serbia\",\"Morocco\",\"Syria\",\"Nigeria\",\"Ireland\",\"Hungary\",\"Oman\",\"Ecuador\",\"Puerto\",\"Azerbaijan\",\"Croatia\",\"Iceland\",\"Cuba\",\"Korea,\",\"Dominican\",\"Jordan\",\"Tajikistan\",\"Tunisia\",\"Slovenia\",\"Lebanon\",\"Bosnia\",\"Turkmenistan\",\"Bahrain\",\"Mozambique\",\"Ghana\",\"Sri\",\"Kyrgyzstan\",\"Lithuania\",\"Uruguay\",\"Costa\",\"Guatemala\",\"Georgia\",\"Trinidad\",\"Zambia\",\"Paraguay\",\"Albania\",\"Burma\",\"Estonia\",\"Congo,\",\"Panama\",\"Latvia\",\"Macedonia\",\"Zimbabwe\",\"Kenya\",\"Bolivia\",\"Luxembourg\",\"Sudan\",\"El\",\"Cameroon\",\"West\",\"Ethiopia\",\"Armenia\",\"Honduras\",\"Angola\",\"Cote\",\"Tanzania\",\"Nicaragua\",\"Moldova\",\"Cyprus\",\"Macau\",\"Namibia\",\"Mongolia\",\"Afghanistan\",\"Yemen\",\"Brunei\",\"Cambodia\",\"Montenegro\",\"Nepal\",\"Botswana\",\"Papua\",\"Jamaica\",\"Kosovo\",\"Laos\",\"Uganda\",\"New\",\"Mauritius\",\"Senegal\",\"Bhutan\",\"Malawi\",\"Madagascar\",\"Bahamas,\",\"Gabon\",\"Suriname\",\"Guam\",\"Liechtenstein\",\"Swaziland\",\"Burkina\",\"Togo\",\"Curacao\",\"Mauritania\",\"Barbados\",\"Niger\",\"Aruba\",\"Benin\",\"Guinea\",\"Mali\",\"Fiji\",\"Congo,\",\"Virgin\",\"Lesotho\",\"South\",\"Bermuda\",\"French\",\"Jersey\",\"Belize\",\"Andorra\",\"Guyana\",\"Cayman\",\"Haiti\",\"Rwanda\",\"Saint\",\"Djibouti\",\"Seychelles\",\"Somalia\",\"Antigua\",\"Greenland\",\"Cabo\",\"Eritrea\",\"Burundi\",\"Liberia\",\"Maldives\",\"Faroe\",\"Gambia,\",\"Chad\",\"Micronesia,\",\"Grenada\",\"Central\",\"Turks\",\"Gibraltar\",\"American\",\"Sierra\",\"Saint\",\"Saint\",\"Timor-Leste\",\"Equatorial\",\"Samoa\",\"Dominica\",\"Western\",\"Solomon\",\"Sao\",\"British\",\"Vanuatu\",\"Guinea-Bissau\",\"Tonga\",\"Saint\",\"Comoros\",\"Cook\",\"Kiribati\",\"Montserrat\",\"Nauru\",\"Falkland\",\"Saint\",\"Niue\",\"Gaza\",\"Malta\",\"Northern\"],\"reversescale\":true,\"text\":[\"China\",\"United States\",\"European\",\"Russia\",\"Japan\",\"India\",\"Germany\",\"Canada\",\"Brazil\",\"Korea,\",\"France\",\"United Kingdom\",\"Italy\",\"Taiwan\",\"Spain\",\"Mexico\",\"Saudi\",\"Australia\",\"South\",\"Turkey\",\"Iran\",\"Indonesia\",\"Ukraine\",\"Thailand\",\"Poland\",\"Egypt\",\"Sweden\",\"Norway\",\"Malaysia\",\"Argentina\",\"Netherlands\",\"Vietnam\",\"Venezuela\",\"United Arab Emirates\",\"Finland\",\"Belgium\",\"Kazakhstan\",\"Pakistan\",\"Philippines\",\"Austria\",\"Chile\",\"Czechia\",\"Israel\",\"Switzerland\",\"Greece\",\"Iraq\",\"Romania\",\"Kuwait\",\"Colombia\",\"Singapore\",\"Portugal\",\"Uzbekistan\",\"Hong\",\"Algeria\",\"Bangladesh\",\"New\",\"Bulgaria\",\"Belarus\",\"Peru\",\"Denmark\",\"Qatar\",\"Slovakia\",\"Libya\",\"Serbia\",\"Morocco\",\"Syria\",\"Nigeria\",\"Ireland\",\"Hungary\",\"Oman\",\"Ecuador\",\"Puerto\",\"Azerbaijan\",\"Croatia\",\"Iceland\",\"Cuba\",\"Korea,\",\"Dominican\",\"Jordan\",\"Tajikistan\",\"Tunisia\",\"Slovenia\",\"Lebanon\",\"Bosnia\",\"Turkmenistan\",\"Bahrain\",\"Mozambique\",\"Ghana\",\"Sri\",\"Kyrgyzstan\",\"Lithuania\",\"Uruguay\",\"Costa\",\"Guatemala\",\"Georgia\",\"Trinidad\",\"Zambia\",\"Paraguay\",\"Albania\",\"Burma\",\"Estonia\",\"Congo,\",\"Panama\",\"Latvia\",\"Macedonia\",\"Zimbabwe\",\"Kenya\",\"Bolivia\",\"Luxembourg\",\"Sudan\",\"El\",\"Cameroon\",\"West\",\"Ethiopia\",\"Armenia\",\"Honduras\",\"Angola\",\"Cote\",\"Tanzania\",\"Nicaragua\",\"Moldova\",\"Cyprus\",\"Macau\",\"Namibia\",\"Mongolia\",\"Afghanistan\",\"Yemen\",\"Brunei\",\"Cambodia\",\"Montenegro\",\"Nepal\",\"Botswana\",\"Papua\",\"Jamaica\",\"Kosovo\",\"Laos\",\"Uganda\",\"New\",\"Mauritius\",\"Senegal\",\"Bhutan\",\"Malawi\",\"Madagascar\",\"Bahamas,\",\"Gabon\",\"Suriname\",\"Guam\",\"Liechtenstein\",\"Swaziland\",\"Burkina\",\"Togo\",\"Curacao\",\"Mauritania\",\"Barbados\",\"Niger\",\"Aruba\",\"Benin\",\"Guinea\",\"Mali\",\"Fiji\",\"Congo,\",\"Virgin\",\"Lesotho\",\"South\",\"Bermuda\",\"French\",\"Jersey\",\"Belize\",\"Andorra\",\"Guyana\",\"Cayman\",\"Haiti\",\"Rwanda\",\"Saint\",\"Djibouti\",\"Seychelles\",\"Somalia\",\"Antigua\",\"Greenland\",\"Cabo\",\"Eritrea\",\"Burundi\",\"Liberia\",\"Maldives\",\"Faroe\",\"Gambia,\",\"Chad\",\"Micronesia,\",\"Grenada\",\"Central\",\"Turks\",\"Gibraltar\",\"American\",\"Sierra\",\"Saint\",\"Saint\",\"Timor-Leste\",\"Equatorial\",\"Samoa\",\"Dominica\",\"Western\",\"Solomon\",\"Sao\",\"British\",\"Vanuatu\",\"Guinea-Bissau\",\"Tonga\",\"Saint\",\"Comoros\",\"Cook\",\"Kiribati\",\"Montserrat\",\"Nauru\",\"Falkland\",\"Saint\",\"Niue\",\"Gaza\",\"Malta\",\"Northern\"],\"type\":\"choropleth\",\"z\":[5523000000000.0,3832000000000.0,2771000000000.0,1065000000000.0,921000000000.0,864700000000.0,540100000000.0,511000000000.0,483500000000.0,482400000000.0,451100000000.0,319100000000.0,303100000000.0,249500000000.0,243100000000.0,234000000000.0,231600000000.0,222600000000.0,211600000000.0,197000000000.0,195300000000.0,167500000000.0,159800000000.0,155900000000.0,139000000000.0,135600000000.0,130500000000.0,126400000000.0,118500000000.0,117100000000.0,116800000000.0,108300000000.0,97690000000.0,93280000000.0,82040000000.0,81890000000.0,80290000000.0,78890000000.0,75270000000.0,69750000000.0,63390000000.0,60550000000.0,59830000000.0,58010000000.0,57730000000.0,53410000000.0,50730000000.0,50000000000.0,49380000000.0,47180000000.0,46250000000.0,45210000000.0,44210000000.0,42870000000.0,41520000000.0,40300000000.0,37990000000.0,37880000000.0,35690000000.0,31960000000.0,30530000000.0,28360000000.0,27540000000.0,26910000000.0,26700000000.0,25700000000.0,24780000000.0,24240000000.0,21550000000.0,20360000000.0,19020000000.0,18620000000.0,17790000000.0,16970000000.0,16940000000.0,16200000000.0,16000000000.0,15140000000.0,14560000000.0,14420000000.0,13310000000.0,13020000000.0,12940000000.0,12560000000.0,11750000000.0,11690000000.0,11280000000.0,10580000000.0,10170000000.0,9943000000.0,9664000000.0,9559000000.0,8987000000.0,8915000000.0,8468000000.0,8365000000.0,8327000000.0,8125000000.0,7793000000.0,7765000000.0,7417000000.0,7292000000.0,7144000000.0,7141000000.0,6960000000.0,6831000000.0,6627000000.0,6456000000.0,6108000000.0,5665000000.0,5665000000.0,5535000000.0,5312000000.0,5227000000.0,5043000000.0,5036000000.0,4842000000.0,4731000000.0,4545000000.0,4412000000.0,4305000000.0,4296000000.0,4291000000.0,4238000000.0,4204000000.0,3893000000.0,3838000000.0,3766000000.0,3553000000.0,3465000000.0,3239000000.0,3213000000.0,3116000000.0,3008000000.0,2887000000.0,2874000000.0,2821000000.0,2716000000.0,2658000000.0,2586000000.0,2085000000.0,2027000000.0,1883000000.0,1716000000.0,1680000000.0,1572000000.0,1566000000.0,1360000000.0,1295000000.0,985500000.0,976000000.0,968000000.0,962600000.0,938000000.0,930200000.0,920700000.0,911000000.0,903000000.0,882600000.0,777600000.0,740000000.0,723500000.0,707000000.0,694100000.0,664200000.0,652900000.0,630100000.0,605000000.0,562400000.0,558000000.0,545900000.0,452000000.0,365500000.0,336400000.0,311600000.0,293900000.0,293000000.0,293000000.0,292000000.0,285500000.0,284000000.0,282900000.0,276900000.0,267100000.0,261300000.0,218600000.0,190700000.0,178600000.0,178000000.0,168300000.0,167400000.0,160000000.0,146000000.0,134900000.0,130200000.0,127400000.0,125300000.0,93000000.0,90400000.0,89750000.0,83700000.0,79050000.0,60450000.0,51150000.0,49290000.0,46500000.0,44640000.0,39990000.0,39990000.0,28950000.0,24180000.0,23250000.0,23250000.0,11160000.0,7440000.0,2790000.0,202000.0,174700.0,48300.0]}],                        {\"geo\":{\"projection\":{\"type\":\"mercator\"},\"showframe\":false},\"template\":{\"data\":{\"bar\":[{\"error_x\":{\"color\":\"#2a3f5f\"},\"error_y\":{\"color\":\"#2a3f5f\"},\"marker\":{\"line\":{\"color\":\"#E5ECF6\",\"width\":0.5},\"pattern\":{\"fillmode\":\"overlay\",\"size\":10,\"solidity\":0.2}},\"type\":\"bar\"}],\"barpolar\":[{\"marker\":{\"line\":{\"color\":\"#E5ECF6\",\"width\":0.5},\"pattern\":{\"fillmode\":\"overlay\",\"size\":10,\"solidity\":0.2}},\"type\":\"barpolar\"}],\"carpet\":[{\"aaxis\":{\"endlinecolor\":\"#2a3f5f\",\"gridcolor\":\"white\",\"linecolor\":\"white\",\"minorgridcolor\":\"white\",\"startlinecolor\":\"#2a3f5f\"},\"baxis\":{\"endlinecolor\":\"#2a3f5f\",\"gridcolor\":\"white\",\"linecolor\":\"white\",\"minorgridcolor\":\"white\",\"startlinecolor\":\"#2a3f5f\"},\"type\":\"carpet\"}],\"choropleth\":[{\"colorbar\":{\"outlinewidth\":0,\"ticks\":\"\"},\"type\":\"choropleth\"}],\"contour\":[{\"colorbar\":{\"outlinewidth\":0,\"ticks\":\"\"},\"colorscale\":[[0.0,\"#0d0887\"],[0.1111111111111111,\"#46039f\"],[0.2222222222222222,\"#7201a8\"],[0.3333333333333333,\"#9c179e\"],[0.4444444444444444,\"#bd3786\"],[0.5555555555555556,\"#d8576b\"],[0.6666666666666666,\"#ed7953\"],[0.7777777777777778,\"#fb9f3a\"],[0.8888888888888888,\"#fdca26\"],[1.0,\"#f0f921\"]],\"type\":\"contour\"}],\"contourcarpet\":[{\"colorbar\":{\"outlinewidth\":0,\"ticks\":\"\"},\"type\":\"contourcarpet\"}],\"heatmap\":[{\"colorbar\":{\"outlinewidth\":0,\"ticks\":\"\"},\"colorscale\":[[0.0,\"#0d0887\"],[0.1111111111111111,\"#46039f\"],[0.2222222222222222,\"#7201a8\"],[0.3333333333333333,\"#9c179e\"],[0.4444444444444444,\"#bd3786\"],[0.5555555555555556,\"#d8576b\"],[0.6666666666666666,\"#ed7953\"],[0.7777777777777778,\"#fb9f3a\"],[0.8888888888888888,\"#fdca26\"],[1.0,\"#f0f921\"]],\"type\":\"heatmap\"}],\"heatmapgl\":[{\"colorbar\":{\"outlinewidth\":0,\"ticks\":\"\"},\"colorscale\":[[0.0,\"#0d0887\"],[0.1111111111111111,\"#46039f\"],[0.2222222222222222,\"#7201a8\"],[0.3333333333333333,\"#9c179e\"],[0.4444444444444444,\"#bd3786\"],[0.5555555555555556,\"#d8576b\"],[0.6666666666666666,\"#ed7953\"],[0.7777777777777778,\"#fb9f3a\"],[0.8888888888888888,\"#fdca26\"],[1.0,\"#f0f921\"]],\"type\":\"heatmapgl\"}],\"histogram\":[{\"marker\":{\"pattern\":{\"fillmode\":\"overlay\",\"size\":10,\"solidity\":0.2}},\"type\":\"histogram\"}],\"histogram2d\":[{\"colorbar\":{\"outlinewidth\":0,\"ticks\":\"\"},\"colorscale\":[[0.0,\"#0d0887\"],[0.1111111111111111,\"#46039f\"],[0.2222222222222222,\"#7201a8\"],[0.3333333333333333,\"#9c179e\"],[0.4444444444444444,\"#bd3786\"],[0.5555555555555556,\"#d8576b\"],[0.6666666666666666,\"#ed7953\"],[0.7777777777777778,\"#fb9f3a\"],[0.8888888888888888,\"#fdca26\"],[1.0,\"#f0f921\"]],\"type\":\"histogram2d\"}],\"histogram2dcontour\":[{\"colorbar\":{\"outlinewidth\":0,\"ticks\":\"\"},\"colorscale\":[[0.0,\"#0d0887\"],[0.1111111111111111,\"#46039f\"],[0.2222222222222222,\"#7201a8\"],[0.3333333333333333,\"#9c179e\"],[0.4444444444444444,\"#bd3786\"],[0.5555555555555556,\"#d8576b\"],[0.6666666666666666,\"#ed7953\"],[0.7777777777777778,\"#fb9f3a\"],[0.8888888888888888,\"#fdca26\"],[1.0,\"#f0f921\"]],\"type\":\"histogram2dcontour\"}],\"mesh3d\":[{\"colorbar\":{\"outlinewidth\":0,\"ticks\":\"\"},\"type\":\"mesh3d\"}],\"parcoords\":[{\"line\":{\"colorbar\":{\"outlinewidth\":0,\"ticks\":\"\"}},\"type\":\"parcoords\"}],\"pie\":[{\"automargin\":true,\"type\":\"pie\"}],\"scatter\":[{\"marker\":{\"colorbar\":{\"outlinewidth\":0,\"ticks\":\"\"}},\"type\":\"scatter\"}],\"scatter3d\":[{\"line\":{\"colorbar\":{\"outlinewidth\":0,\"ticks\":\"\"}},\"marker\":{\"colorbar\":{\"outlinewidth\":0,\"ticks\":\"\"}},\"type\":\"scatter3d\"}],\"scattercarpet\":[{\"marker\":{\"colorbar\":{\"outlinewidth\":0,\"ticks\":\"\"}},\"type\":\"scattercarpet\"}],\"scattergeo\":[{\"marker\":{\"colorbar\":{\"outlinewidth\":0,\"ticks\":\"\"}},\"type\":\"scattergeo\"}],\"scattergl\":[{\"marker\":{\"colorbar\":{\"outlinewidth\":0,\"ticks\":\"\"}},\"type\":\"scattergl\"}],\"scattermapbox\":[{\"marker\":{\"colorbar\":{\"outlinewidth\":0,\"ticks\":\"\"}},\"type\":\"scattermapbox\"}],\"scatterpolar\":[{\"marker\":{\"colorbar\":{\"outlinewidth\":0,\"ticks\":\"\"}},\"type\":\"scatterpolar\"}],\"scatterpolargl\":[{\"marker\":{\"colorbar\":{\"outlinewidth\":0,\"ticks\":\"\"}},\"type\":\"scatterpolargl\"}],\"scatterternary\":[{\"marker\":{\"colorbar\":{\"outlinewidth\":0,\"ticks\":\"\"}},\"type\":\"scatterternary\"}],\"surface\":[{\"colorbar\":{\"outlinewidth\":0,\"ticks\":\"\"},\"colorscale\":[[0.0,\"#0d0887\"],[0.1111111111111111,\"#46039f\"],[0.2222222222222222,\"#7201a8\"],[0.3333333333333333,\"#9c179e\"],[0.4444444444444444,\"#bd3786\"],[0.5555555555555556,\"#d8576b\"],[0.6666666666666666,\"#ed7953\"],[0.7777777777777778,\"#fb9f3a\"],[0.8888888888888888,\"#fdca26\"],[1.0,\"#f0f921\"]],\"type\":\"surface\"}],\"table\":[{\"cells\":{\"fill\":{\"color\":\"#EBF0F8\"},\"line\":{\"color\":\"white\"}},\"header\":{\"fill\":{\"color\":\"#C8D4E3\"},\"line\":{\"color\":\"white\"}},\"type\":\"table\"}]},\"layout\":{\"annotationdefaults\":{\"arrowcolor\":\"#2a3f5f\",\"arrowhead\":0,\"arrowwidth\":1},\"autotypenumbers\":\"strict\",\"coloraxis\":{\"colorbar\":{\"outlinewidth\":0,\"ticks\":\"\"}},\"colorscale\":{\"diverging\":[[0,\"#8e0152\"],[0.1,\"#c51b7d\"],[0.2,\"#de77ae\"],[0.3,\"#f1b6da\"],[0.4,\"#fde0ef\"],[0.5,\"#f7f7f7\"],[0.6,\"#e6f5d0\"],[0.7,\"#b8e186\"],[0.8,\"#7fbc41\"],[0.9,\"#4d9221\"],[1,\"#276419\"]],\"sequential\":[[0.0,\"#0d0887\"],[0.1111111111111111,\"#46039f\"],[0.2222222222222222,\"#7201a8\"],[0.3333333333333333,\"#9c179e\"],[0.4444444444444444,\"#bd3786\"],[0.5555555555555556,\"#d8576b\"],[0.6666666666666666,\"#ed7953\"],[0.7777777777777778,\"#fb9f3a\"],[0.8888888888888888,\"#fdca26\"],[1.0,\"#f0f921\"]],\"sequentialminus\":[[0.0,\"#0d0887\"],[0.1111111111111111,\"#46039f\"],[0.2222222222222222,\"#7201a8\"],[0.3333333333333333,\"#9c179e\"],[0.4444444444444444,\"#bd3786\"],[0.5555555555555556,\"#d8576b\"],[0.6666666666666666,\"#ed7953\"],[0.7777777777777778,\"#fb9f3a\"],[0.8888888888888888,\"#fdca26\"],[1.0,\"#f0f921\"]]},\"colorway\":[\"#636efa\",\"#EF553B\",\"#00cc96\",\"#ab63fa\",\"#FFA15A\",\"#19d3f3\",\"#FF6692\",\"#B6E880\",\"#FF97FF\",\"#FECB52\"],\"font\":{\"color\":\"#2a3f5f\"},\"geo\":{\"bgcolor\":\"white\",\"lakecolor\":\"white\",\"landcolor\":\"#E5ECF6\",\"showlakes\":true,\"showland\":true,\"subunitcolor\":\"white\"},\"hoverlabel\":{\"align\":\"left\"},\"hovermode\":\"closest\",\"mapbox\":{\"style\":\"light\"},\"paper_bgcolor\":\"white\",\"plot_bgcolor\":\"#E5ECF6\",\"polar\":{\"angularaxis\":{\"gridcolor\":\"white\",\"linecolor\":\"white\",\"ticks\":\"\"},\"bgcolor\":\"#E5ECF6\",\"radialaxis\":{\"gridcolor\":\"white\",\"linecolor\":\"white\",\"ticks\":\"\"}},\"scene\":{\"xaxis\":{\"backgroundcolor\":\"#E5ECF6\",\"gridcolor\":\"white\",\"gridwidth\":2,\"linecolor\":\"white\",\"showbackground\":true,\"ticks\":\"\",\"zerolinecolor\":\"white\"},\"yaxis\":{\"backgroundcolor\":\"#E5ECF6\",\"gridcolor\":\"white\",\"gridwidth\":2,\"linecolor\":\"white\",\"showbackground\":true,\"ticks\":\"\",\"zerolinecolor\":\"white\"},\"zaxis\":{\"backgroundcolor\":\"#E5ECF6\",\"gridcolor\":\"white\",\"gridwidth\":2,\"linecolor\":\"white\",\"showbackground\":true,\"ticks\":\"\",\"zerolinecolor\":\"white\"}},\"shapedefaults\":{\"line\":{\"color\":\"#2a3f5f\"}},\"ternary\":{\"aaxis\":{\"gridcolor\":\"white\",\"linecolor\":\"white\",\"ticks\":\"\"},\"baxis\":{\"gridcolor\":\"white\",\"linecolor\":\"white\",\"ticks\":\"\"},\"bgcolor\":\"#E5ECF6\",\"caxis\":{\"gridcolor\":\"white\",\"linecolor\":\"white\",\"ticks\":\"\"}},\"title\":{\"x\":0.05},\"xaxis\":{\"automargin\":true,\"gridcolor\":\"white\",\"linecolor\":\"white\",\"ticks\":\"\",\"title\":{\"standoff\":15},\"zerolinecolor\":\"white\",\"zerolinewidth\":2},\"yaxis\":{\"automargin\":true,\"gridcolor\":\"white\",\"linecolor\":\"white\",\"ticks\":\"\",\"title\":{\"standoff\":15},\"zerolinecolor\":\"white\",\"zerolinewidth\":2}}},\"title\":{\"text\":\"2014 Power Consumption KWH\"}},                        {\"responsive\": true}                    ).then(function(){\n",
       "                            \n",
       "var gd = document.getElementById('9936b80f-0d2c-4926-9cba-b802631db021');\n",
       "var x = new MutationObserver(function (mutations, observer) {{\n",
       "        var display = window.getComputedStyle(gd).display;\n",
       "        if (!display || display === 'none') {{\n",
       "            console.log([gd, 'removed!']);\n",
       "            Plotly.purge(gd);\n",
       "            observer.disconnect();\n",
       "        }}\n",
       "}});\n",
       "\n",
       "// Listen for the removal of the full notebook cells\n",
       "var notebookContainer = gd.closest('#notebook-container');\n",
       "if (notebookContainer) {{\n",
       "    x.observe(notebookContainer, {childList: true});\n",
       "}}\n",
       "\n",
       "// Listen for the clearing of the current output cell\n",
       "var outputEl = gd.closest('.output');\n",
       "if (outputEl) {{\n",
       "    x.observe(outputEl, {childList: true});\n",
       "}}\n",
       "\n",
       "                        })                };                });            </script>        </div>"
      ]
     },
     "metadata": {},
     "output_type": "display_data"
    }
   ],
   "source": [
    "choromap=go.Figure(data=[data],layout=layout)\n",
    "iplot(choromap, validate=False)"
   ]
  },
  {
   "cell_type": "code",
   "execution_count": 10,
   "metadata": {},
   "outputs": [],
   "source": [
    "df2=pd.read_clipboard(header=None)#nasa dan kopyaladık"
   ]
  },
  {
   "cell_type": "code",
   "execution_count": 26,
   "metadata": {},
   "outputs": [
    {
     "data": {
      "text/html": [
       "<div>\n",
       "<style scoped>\n",
       "    .dataframe tbody tr th:only-of-type {\n",
       "        vertical-align: middle;\n",
       "    }\n",
       "\n",
       "    .dataframe tbody tr th {\n",
       "        vertical-align: top;\n",
       "    }\n",
       "\n",
       "    .dataframe thead th {\n",
       "        text-align: right;\n",
       "    }\n",
       "</style>\n",
       "<table border=\"1\" class=\"dataframe\">\n",
       "  <thead>\n",
       "    <tr style=\"text-align: right;\">\n",
       "      <th></th>\n",
       "      <th>0</th>\n",
       "      <th>1</th>\n",
       "    </tr>\n",
       "  </thead>\n",
       "  <tbody>\n",
       "    <tr>\n",
       "      <th>0</th>\n",
       "      <td>CHINA</td>\n",
       "      <td>4,075,453</td>\n",
       "    </tr>\n",
       "    <tr>\n",
       "      <th>1</th>\n",
       "      <td>UNITED STATES</td>\n",
       "      <td>2,910,194</td>\n",
       "    </tr>\n",
       "    <tr>\n",
       "      <th>2</th>\n",
       "      <td>PHILIPPINES</td>\n",
       "      <td>2,243,070</td>\n",
       "    </tr>\n",
       "    <tr>\n",
       "      <th>3</th>\n",
       "      <td>UNITED KINGDOM</td>\n",
       "      <td>1,129,682</td>\n",
       "    </tr>\n",
       "    <tr>\n",
       "      <th>4</th>\n",
       "      <td>RUSSIA</td>\n",
       "      <td>803,629</td>\n",
       "    </tr>\n",
       "  </tbody>\n",
       "</table>\n",
       "</div>"
      ],
      "text/plain": [
       "                0          1\n",
       "0           CHINA  4,075,453\n",
       "1   UNITED STATES  2,910,194\n",
       "2     PHILIPPINES  2,243,070\n",
       "3  UNITED KINGDOM  1,129,682\n",
       "4          RUSSIA    803,629"
      ]
     },
     "execution_count": 26,
     "metadata": {},
     "output_type": "execute_result"
    }
   ],
   "source": [
    "df2.head()"
   ]
  },
  {
   "cell_type": "code",
   "execution_count": 27,
   "metadata": {},
   "outputs": [],
   "source": [
    "df2.columns=[\"Ulke\", \"Adet\"]"
   ]
  },
  {
   "cell_type": "code",
   "execution_count": 28,
   "metadata": {},
   "outputs": [
    {
     "data": {
      "text/html": [
       "<div>\n",
       "<style scoped>\n",
       "    .dataframe tbody tr th:only-of-type {\n",
       "        vertical-align: middle;\n",
       "    }\n",
       "\n",
       "    .dataframe tbody tr th {\n",
       "        vertical-align: top;\n",
       "    }\n",
       "\n",
       "    .dataframe thead th {\n",
       "        text-align: right;\n",
       "    }\n",
       "</style>\n",
       "<table border=\"1\" class=\"dataframe\">\n",
       "  <thead>\n",
       "    <tr style=\"text-align: right;\">\n",
       "      <th></th>\n",
       "      <th>Ulke</th>\n",
       "      <th>Adet</th>\n",
       "    </tr>\n",
       "  </thead>\n",
       "  <tbody>\n",
       "    <tr>\n",
       "      <th>0</th>\n",
       "      <td>CHINA</td>\n",
       "      <td>4,075,453</td>\n",
       "    </tr>\n",
       "    <tr>\n",
       "      <th>1</th>\n",
       "      <td>UNITED STATES</td>\n",
       "      <td>2,910,194</td>\n",
       "    </tr>\n",
       "    <tr>\n",
       "      <th>2</th>\n",
       "      <td>PHILIPPINES</td>\n",
       "      <td>2,243,070</td>\n",
       "    </tr>\n",
       "    <tr>\n",
       "      <th>3</th>\n",
       "      <td>UNITED KINGDOM</td>\n",
       "      <td>1,129,682</td>\n",
       "    </tr>\n",
       "    <tr>\n",
       "      <th>4</th>\n",
       "      <td>RUSSIA</td>\n",
       "      <td>803,629</td>\n",
       "    </tr>\n",
       "  </tbody>\n",
       "</table>\n",
       "</div>"
      ],
      "text/plain": [
       "             Ulke       Adet\n",
       "0           CHINA  4,075,453\n",
       "1   UNITED STATES  2,910,194\n",
       "2     PHILIPPINES  2,243,070\n",
       "3  UNITED KINGDOM  1,129,682\n",
       "4          RUSSIA    803,629"
      ]
     },
     "execution_count": 28,
     "metadata": {},
     "output_type": "execute_result"
    }
   ],
   "source": [
    "df2.head()"
   ]
  },
  {
   "cell_type": "code",
   "execution_count": 29,
   "metadata": {},
   "outputs": [],
   "source": [
    "df2[\"Adet\"]=df2[\"Adet\"].str.replace(\",\",\"\")"
   ]
  },
  {
   "cell_type": "code",
   "execution_count": 30,
   "metadata": {},
   "outputs": [
    {
     "data": {
      "text/html": [
       "<div>\n",
       "<style scoped>\n",
       "    .dataframe tbody tr th:only-of-type {\n",
       "        vertical-align: middle;\n",
       "    }\n",
       "\n",
       "    .dataframe tbody tr th {\n",
       "        vertical-align: top;\n",
       "    }\n",
       "\n",
       "    .dataframe thead th {\n",
       "        text-align: right;\n",
       "    }\n",
       "</style>\n",
       "<table border=\"1\" class=\"dataframe\">\n",
       "  <thead>\n",
       "    <tr style=\"text-align: right;\">\n",
       "      <th></th>\n",
       "      <th>Ulke</th>\n",
       "      <th>Adet</th>\n",
       "    </tr>\n",
       "  </thead>\n",
       "  <tbody>\n",
       "    <tr>\n",
       "      <th>0</th>\n",
       "      <td>CHINA</td>\n",
       "      <td>4075453</td>\n",
       "    </tr>\n",
       "    <tr>\n",
       "      <th>1</th>\n",
       "      <td>UNITED STATES</td>\n",
       "      <td>2910194</td>\n",
       "    </tr>\n",
       "    <tr>\n",
       "      <th>2</th>\n",
       "      <td>PHILIPPINES</td>\n",
       "      <td>2243070</td>\n",
       "    </tr>\n",
       "    <tr>\n",
       "      <th>3</th>\n",
       "      <td>UNITED KINGDOM</td>\n",
       "      <td>1129682</td>\n",
       "    </tr>\n",
       "    <tr>\n",
       "      <th>4</th>\n",
       "      <td>RUSSIA</td>\n",
       "      <td>803629</td>\n",
       "    </tr>\n",
       "  </tbody>\n",
       "</table>\n",
       "</div>"
      ],
      "text/plain": [
       "             Ulke     Adet\n",
       "0           CHINA  4075453\n",
       "1   UNITED STATES  2910194\n",
       "2     PHILIPPINES  2243070\n",
       "3  UNITED KINGDOM  1129682\n",
       "4          RUSSIA   803629"
      ]
     },
     "execution_count": 30,
     "metadata": {},
     "output_type": "execute_result"
    }
   ],
   "source": [
    "df2.head()"
   ]
  },
  {
   "cell_type": "code",
   "execution_count": 32,
   "metadata": {},
   "outputs": [],
   "source": [
    "data2=dict(\n",
    "      type= \"choropleth\",\n",
    "      colorscale= \"Viridis\",\n",
    "      reversescale=True,\n",
    "      locations=df2[\"Ulke\"],\n",
    "      locationmode=\"country names\",\n",
    "      z=df2[\"Adet\"], \n",
    "      text=df2[\"Ulke\"],\n",
    "      colorbar= {\"title\":\"Marsa Giden Ülkeler\"},\n",
    "   )  \n",
    "layout= dict(title=\"Marsa Giden Ülkeler\",\n",
    "               geo=dict(showframe=False,projection={\"type\":\"mercator\"})\n",
    "            )"
   ]
  },
  {
   "cell_type": "code",
   "execution_count": 34,
   "metadata": {},
   "outputs": [
    {
     "data": {
      "application/vnd.plotly.v1+json": {
       "config": {
        "linkText": "Export to plot.ly",
        "plotlyServerURL": "https://plot.ly",
        "showLink": false
       },
       "data": [
        {
         "colorbar": {
          "title": {
           "text": "Marsa Giden Ülkeler"
          }
         },
         "colorscale": [
          [
           0,
           "#440154"
          ],
          [
           0.1111111111111111,
           "#482878"
          ],
          [
           0.2222222222222222,
           "#3e4989"
          ],
          [
           0.3333333333333333,
           "#31688e"
          ],
          [
           0.4444444444444444,
           "#26828e"
          ],
          [
           0.5555555555555556,
           "#1f9e89"
          ],
          [
           0.6666666666666666,
           "#35b779"
          ],
          [
           0.7777777777777778,
           "#6ece58"
          ],
          [
           0.8888888888888888,
           "#b5de2b"
          ],
          [
           1,
           "#fde725"
          ]
         ],
         "locationmode": "country names",
         "locations": [
          "CHINA",
          "UNITED STATES",
          "PHILIPPINES",
          "UNITED KINGDOM",
          "RUSSIA",
          "BRAZIL",
          "ITALY",
          "MEXICO",
          "INDIA",
          "FRANCE",
          "INDONESIA",
          "SPAIN",
          "UKRAINE",
          "CANADA",
          "MALAYSIA",
          "SOUTH KOREA",
          "GERMANY",
          "AUSTRALIA",
          "KAZAKHSTAN",
          "PERU",
          "TURKEY",
          "COLOMBIA",
          "POLAND",
          "ARGENTINA",
          "CHILE",
          "CZECHIA",
          "ECUADOR",
          "VIETNAM",
          "IRELAND",
          "TAIWAN",
          "IRAN",
          "SWEDEN",
          "ROMANIA",
          "HONG KONG SAR CHINA",
          "PORTUGAL",
          "BELARUS",
          "THAILAND",
          "BELGIUM",
          "GREECE",
          "BANGLADESH",
          "NETHERLANDS",
          "AFGHANISTAN",
          "SOUTH AFRICA",
          "EGYPT",
          "HUNGARY",
          "ALBANIA",
          "ALGERIA",
          "SAUDI ARABIA",
          "COSTA RICA",
          "AUSTRIA",
          "UNITED ARAB EMIRATES",
          "UZBEKISTAN",
          "ARMENIA",
          "NEW ZEALAND",
          "JAPAN",
          "ISRAEL",
          "SLOVAKIA",
          "SWITZERLAND",
          "SINGAPORE",
          "AZERBAIJAN",
          "SERBIA",
          "BOLIVIA",
          "AMERICAN SAMOA",
          "CROATIA",
          "VENEZUELA",
          "GUATEMALA",
          "NORWAY",
          "MOROCCO",
          "DENMARK",
          "IRAQ",
          "KYRGYZSTAN",
          "ANDORRA",
          "BULGARIA",
          "MOLDOVA",
          "FINLAND",
          "PAKISTAN",
          "LITHUANIA",
          "PUERTO RICO",
          "LEBANON",
          "GEORGIA",
          "EL SALVADOR",
          "HONDURAS",
          "BOSNIA & HERZEGOVINA",
          "PANAMA",
          "LATVIA",
          "DOMINICAN REPUBLIC",
          "JORDAN",
          "NEPAL",
          "ANGOLA",
          "SRI LANKA",
          "TUNISIA",
          "URUGUAY",
          "PARAGUAY",
          "TRINIDAD & TOBAGO",
          "ESTONIA",
          "ANGUILLA",
          "ANTARCTICA",
          "MYANMAR (BURMA)",
          "SLOVENIA",
          "KUWAIT",
          "BAHRAIN",
          "CYPRUS",
          "NICARAGUA",
          "NORTH MACEDONIA",
          "NORTH KOREA",
          "ARUBA",
          "BAHAMAS",
          "KOSOVO",
          "CANARY ISLANDS",
          "MACAO SAR CHINA",
          "ASCENSION ISLAND",
          "SYRIA",
          "QATAR",
          "ANTIGUA & BARBUDA",
          "MALTA",
          "CAMBODIA",
          "MALDIVES",
          "NIGERIA",
          "OMAN",
          "GUYANA",
          "BRUNEI",
          "PALESTINIAN TERRITORIES",
          "KENYA",
          "MONTENEGRO",
          "MAURITIUS",
          "LUXEMBOURG",
          "CHRISTMAS ISLAND",
          "ZIMBABWE",
          "CUBA",
          "ICELAND",
          "BELIZE",
          "RÉUNION",
          "MONGOLIA",
          "YEMEN",
          "LIBYA",
          "JAMAICA",
          "BRITISH VIRGIN ISLANDS",
          "GHANA",
          "SUDAN",
          "BARBADOS",
          "BHUTAN",
          "TAJIKISTAN",
          "ETHIOPIA",
          "TURKMENISTAN",
          "GUAM",
          "BERMUDA",
          "FIJI",
          "FRENCH POLYNESIA",
          "BOTSWANA",
          "BRITISH INDIAN OCEAN TERRITORY",
          "JERSEY",
          "CHAD",
          "ISLE OF MAN",
          "MADAGASCAR",
          "BENIN",
          "CARIBBEAN NETHERLANDS",
          "SURINAME",
          "ZAMBIA",
          "CAPE VERDE",
          "CAMEROON",
          "CEUTA & MELILLA",
          "CAYMAN ISLANDS",
          "GUADELOUPE",
          "UGANDA",
          "TANZANIA",
          "NIGER",
          "FRENCH GUIANA",
          "CÔTE D’IVOIRE",
          "BURUNDI",
          "MONACO",
          "CENTRAL AFRICAN REPUBLIC",
          "GUERNSEY",
          "GIBRALTAR",
          "FRENCH SOUTHERN TERRITORIES",
          "DOMINICA",
          "MARTINIQUE",
          "BURKINA FASO",
          "LAOS",
          "MOZAMBIQUE",
          "U.S. VIRGIN ISLANDS",
          "SENEGAL",
          "NEW CALEDONIA",
          "CURAÇAO",
          "NAMIBIA",
          "NORTHERN MARIANA ISLANDS",
          "COCOS (KEELING) ISLANDS",
          "SOMALIA",
          "GREENLAND",
          "VATICAN CITY",
          "CONGO - KINSHASA",
          "HAITI",
          "RWANDA",
          "COMOROS",
          "CONGO - BRAZZAVILLE",
          "COOK ISLANDS",
          "EQUATORIAL GUINEA",
          "SOUTH SUDAN",
          "PITCAIRN ISLANDS",
          "GABON",
          "MALI",
          "MALAWI",
          "GRENADA",
          "SAN MARINO",
          "ERITREA",
          "MARSHALL ISLANDS",
          "DJIBOUTI",
          "MAURITANIA",
          "SAMOA",
          "DIEGO GARCIA",
          "ESWATINI",
          "FAROE ISLANDS",
          "LIECHTENSTEIN",
          "U.S. OUTLYING ISLANDS",
          "PAPUA NEW GUINEA",
          "MAYOTTE",
          "WALLIS & FUTUNA",
          "VANUATU",
          "GUINEA",
          "SINT MAARTEN",
          "TOGO",
          "LIBERIA",
          "GAMBIA",
          "MICRONESIA",
          "PALAU",
          "TURKS & CAICOS ISLANDS",
          "FALKLAND ISLANDS",
          "ST. LUCIA",
          "ST. MARTIN",
          "WESTERN SAHARA",
          "SEYCHELLES",
          "SIERRA LEONE",
          "SOUTH GEORGIA & SOUTH SANDWICH ISLANDS",
          "TIMOR-LESTE",
          "MONTSERRAT",
          "ST. VINCENT & GRENADINES",
          "ÅLAND ISLANDS",
          "LESOTHO",
          "TONGA",
          "SÃO TOMÉ & PRÍNCIPE",
          "ST. KITTS & NEVIS",
          "GUINEA-BISSAU",
          "ST. PIERRE & MIQUELON",
          "KIRIBATI",
          "TUVALU",
          "NORFOLK ISLAND",
          "SOLOMON ISLANDS",
          "ST. HELENA",
          "ST. BARTHÉLEMY",
          "NIUE",
          "TOKELAU",
          "SVALBARD & JAN MAYEN",
          "NAURU",
          "TRISTAN DA CUNHA",
          "PSEUDO-BIDI"
         ],
         "reversescale": true,
         "text": [
          "CHINA",
          "UNITED STATES",
          "PHILIPPINES",
          "UNITED KINGDOM",
          "RUSSIA",
          "BRAZIL",
          "ITALY",
          "MEXICO",
          "INDIA",
          "FRANCE",
          "INDONESIA",
          "SPAIN",
          "UKRAINE",
          "CANADA",
          "MALAYSIA",
          "SOUTH KOREA",
          "GERMANY",
          "AUSTRALIA",
          "KAZAKHSTAN",
          "PERU",
          "TURKEY",
          "COLOMBIA",
          "POLAND",
          "ARGENTINA",
          "CHILE",
          "CZECHIA",
          "ECUADOR",
          "VIETNAM",
          "IRELAND",
          "TAIWAN",
          "IRAN",
          "SWEDEN",
          "ROMANIA",
          "HONG KONG SAR CHINA",
          "PORTUGAL",
          "BELARUS",
          "THAILAND",
          "BELGIUM",
          "GREECE",
          "BANGLADESH",
          "NETHERLANDS",
          "AFGHANISTAN",
          "SOUTH AFRICA",
          "EGYPT",
          "HUNGARY",
          "ALBANIA",
          "ALGERIA",
          "SAUDI ARABIA",
          "COSTA RICA",
          "AUSTRIA",
          "UNITED ARAB EMIRATES",
          "UZBEKISTAN",
          "ARMENIA",
          "NEW ZEALAND",
          "JAPAN",
          "ISRAEL",
          "SLOVAKIA",
          "SWITZERLAND",
          "SINGAPORE",
          "AZERBAIJAN",
          "SERBIA",
          "BOLIVIA",
          "AMERICAN SAMOA",
          "CROATIA",
          "VENEZUELA",
          "GUATEMALA",
          "NORWAY",
          "MOROCCO",
          "DENMARK",
          "IRAQ",
          "KYRGYZSTAN",
          "ANDORRA",
          "BULGARIA",
          "MOLDOVA",
          "FINLAND",
          "PAKISTAN",
          "LITHUANIA",
          "PUERTO RICO",
          "LEBANON",
          "GEORGIA",
          "EL SALVADOR",
          "HONDURAS",
          "BOSNIA & HERZEGOVINA",
          "PANAMA",
          "LATVIA",
          "DOMINICAN REPUBLIC",
          "JORDAN",
          "NEPAL",
          "ANGOLA",
          "SRI LANKA",
          "TUNISIA",
          "URUGUAY",
          "PARAGUAY",
          "TRINIDAD & TOBAGO",
          "ESTONIA",
          "ANGUILLA",
          "ANTARCTICA",
          "MYANMAR (BURMA)",
          "SLOVENIA",
          "KUWAIT",
          "BAHRAIN",
          "CYPRUS",
          "NICARAGUA",
          "NORTH MACEDONIA",
          "NORTH KOREA",
          "ARUBA",
          "BAHAMAS",
          "KOSOVO",
          "CANARY ISLANDS",
          "MACAO SAR CHINA",
          "ASCENSION ISLAND",
          "SYRIA",
          "QATAR",
          "ANTIGUA & BARBUDA",
          "MALTA",
          "CAMBODIA",
          "MALDIVES",
          "NIGERIA",
          "OMAN",
          "GUYANA",
          "BRUNEI",
          "PALESTINIAN TERRITORIES",
          "KENYA",
          "MONTENEGRO",
          "MAURITIUS",
          "LUXEMBOURG",
          "CHRISTMAS ISLAND",
          "ZIMBABWE",
          "CUBA",
          "ICELAND",
          "BELIZE",
          "RÉUNION",
          "MONGOLIA",
          "YEMEN",
          "LIBYA",
          "JAMAICA",
          "BRITISH VIRGIN ISLANDS",
          "GHANA",
          "SUDAN",
          "BARBADOS",
          "BHUTAN",
          "TAJIKISTAN",
          "ETHIOPIA",
          "TURKMENISTAN",
          "GUAM",
          "BERMUDA",
          "FIJI",
          "FRENCH POLYNESIA",
          "BOTSWANA",
          "BRITISH INDIAN OCEAN TERRITORY",
          "JERSEY",
          "CHAD",
          "ISLE OF MAN",
          "MADAGASCAR",
          "BENIN",
          "CARIBBEAN NETHERLANDS",
          "SURINAME",
          "ZAMBIA",
          "CAPE VERDE",
          "CAMEROON",
          "CEUTA & MELILLA",
          "CAYMAN ISLANDS",
          "GUADELOUPE",
          "UGANDA",
          "TANZANIA",
          "NIGER",
          "FRENCH GUIANA",
          "CÔTE D’IVOIRE",
          "BURUNDI",
          "MONACO",
          "CENTRAL AFRICAN REPUBLIC",
          "GUERNSEY",
          "GIBRALTAR",
          "FRENCH SOUTHERN TERRITORIES",
          "DOMINICA",
          "MARTINIQUE",
          "BURKINA FASO",
          "LAOS",
          "MOZAMBIQUE",
          "U.S. VIRGIN ISLANDS",
          "SENEGAL",
          "NEW CALEDONIA",
          "CURAÇAO",
          "NAMIBIA",
          "NORTHERN MARIANA ISLANDS",
          "COCOS (KEELING) ISLANDS",
          "SOMALIA",
          "GREENLAND",
          "VATICAN CITY",
          "CONGO - KINSHASA",
          "HAITI",
          "RWANDA",
          "COMOROS",
          "CONGO - BRAZZAVILLE",
          "COOK ISLANDS",
          "EQUATORIAL GUINEA",
          "SOUTH SUDAN",
          "PITCAIRN ISLANDS",
          "GABON",
          "MALI",
          "MALAWI",
          "GRENADA",
          "SAN MARINO",
          "ERITREA",
          "MARSHALL ISLANDS",
          "DJIBOUTI",
          "MAURITANIA",
          "SAMOA",
          "DIEGO GARCIA",
          "ESWATINI",
          "FAROE ISLANDS",
          "LIECHTENSTEIN",
          "U.S. OUTLYING ISLANDS",
          "PAPUA NEW GUINEA",
          "MAYOTTE",
          "WALLIS & FUTUNA",
          "VANUATU",
          "GUINEA",
          "SINT MAARTEN",
          "TOGO",
          "LIBERIA",
          "GAMBIA",
          "MICRONESIA",
          "PALAU",
          "TURKS & CAICOS ISLANDS",
          "FALKLAND ISLANDS",
          "ST. LUCIA",
          "ST. MARTIN",
          "WESTERN SAHARA",
          "SEYCHELLES",
          "SIERRA LEONE",
          "SOUTH GEORGIA & SOUTH SANDWICH ISLANDS",
          "TIMOR-LESTE",
          "MONTSERRAT",
          "ST. VINCENT & GRENADINES",
          "ÅLAND ISLANDS",
          "LESOTHO",
          "TONGA",
          "SÃO TOMÉ & PRÍNCIPE",
          "ST. KITTS & NEVIS",
          "GUINEA-BISSAU",
          "ST. PIERRE & MIQUELON",
          "KIRIBATI",
          "TUVALU",
          "NORFOLK ISLAND",
          "SOLOMON ISLANDS",
          "ST. HELENA",
          "ST. BARTHÉLEMY",
          "NIUE",
          "TOKELAU",
          "SVALBARD & JAN MAYEN",
          "NAURU",
          "TRISTAN DA CUNHA",
          "PSEUDO-BIDI"
         ],
         "type": "choropleth",
         "z": [
          "4075453",
          "2910194",
          "2243070",
          "1129682",
          "803629",
          "742280",
          "730027",
          "585516",
          "432151",
          "429958",
          "340273",
          "283081",
          "282144",
          "275753",
          "265683",
          "251966",
          "230308",
          "221566",
          "202395",
          "174476",
          "160005",
          "159664",
          "158567",
          "149019",
          "137884",
          "103213",
          "89595",
          "87318",
          "84249",
          "83383",
          "80042",
          "72765",
          "71204",
          "70765",
          "70738",
          "69877",
          "67475",
          "63011",
          "54283",
          "53006",
          "51788",
          "51136",
          "50549",
          "50137",
          "47292",
          "43257",
          "42778",
          "42309",
          "41532",
          "39659",
          "38889",
          "38678",
          "37996",
          "36121",
          "35635",
          "34845",
          "34360",
          "34161",
          "32072",
          "31987",
          "30003",
          "29764",
          "28221",
          "28027",
          "27600",
          "26887",
          "26594",
          "25829",
          "25148",
          "23968",
          "23852",
          "23624",
          "21989",
          "20418",
          "19955",
          "19916",
          "18953",
          "18729",
          "18647",
          "17918",
          "17691",
          "16508",
          "16175",
          "15628",
          "15093",
          "14862",
          "14835",
          "14424",
          "13890",
          "13154",
          "13023",
          "12553",
          "11849",
          "11191",
          "10869",
          "9212",
          "9041",
          "8833",
          "8492",
          "7763",
          "7489",
          "7445",
          "7405",
          "7349",
          "7064",
          "6923",
          "6841",
          "6650",
          "6437",
          "6226",
          "6155",
          "6052",
          "5959",
          "5682",
          "4882",
          "4751",
          "4647",
          "4634",
          "4588",
          "4293",
          "4272",
          "4185",
          "3879",
          "3785",
          "3033",
          "2887",
          "2833",
          "2775",
          "2698",
          "2678",
          "2670",
          "2649",
          "2588",
          "2502",
          "2431",
          "2227",
          "2207",
          "2179",
          "2126",
          "1794",
          "1751",
          "1660",
          "1601",
          "1589",
          "1547",
          "1482",
          "1392",
          "1348",
          "1296",
          "1254",
          "1213",
          "1203",
          "1180",
          "1176",
          "1056",
          "1037",
          "1021",
          "997",
          "986",
          "985",
          "984",
          "958",
          "931",
          "926",
          "924",
          "915",
          "854",
          "845",
          "829",
          "799",
          "793",
          "770",
          "768",
          "742",
          "736",
          "704",
          "699",
          "657",
          "640",
          "635",
          "634",
          "615",
          "614",
          "596",
          "596",
          "589",
          "514",
          "513",
          "509",
          "508",
          "474",
          "429",
          "427",
          "406",
          "404",
          "402",
          "401",
          "391",
          "389",
          "382",
          "380",
          "377",
          "369",
          "366",
          "356",
          "349",
          "321",
          "318",
          "316",
          "315",
          "311",
          "304",
          "287",
          "284",
          "282",
          "275",
          "266",
          "264",
          "259",
          "252",
          "246",
          "246",
          "245",
          "241",
          "226",
          "224",
          "223",
          "221",
          "201",
          "176",
          "170",
          "168",
          "162",
          "161",
          "150",
          "136",
          "135",
          "134",
          "127",
          "126",
          "125",
          "123",
          "121",
          "117",
          "115",
          "114",
          "102",
          "99",
          "94",
          "91",
          "91",
          "91",
          "67",
          "1"
         ]
        }
       ],
       "layout": {
        "geo": {
         "projection": {
          "type": "mercator"
         },
         "showframe": false
        },
        "template": {
         "data": {
          "bar": [
           {
            "error_x": {
             "color": "#2a3f5f"
            },
            "error_y": {
             "color": "#2a3f5f"
            },
            "marker": {
             "line": {
              "color": "#E5ECF6",
              "width": 0.5
             },
             "pattern": {
              "fillmode": "overlay",
              "size": 10,
              "solidity": 0.2
             }
            },
            "type": "bar"
           }
          ],
          "barpolar": [
           {
            "marker": {
             "line": {
              "color": "#E5ECF6",
              "width": 0.5
             },
             "pattern": {
              "fillmode": "overlay",
              "size": 10,
              "solidity": 0.2
             }
            },
            "type": "barpolar"
           }
          ],
          "carpet": [
           {
            "aaxis": {
             "endlinecolor": "#2a3f5f",
             "gridcolor": "white",
             "linecolor": "white",
             "minorgridcolor": "white",
             "startlinecolor": "#2a3f5f"
            },
            "baxis": {
             "endlinecolor": "#2a3f5f",
             "gridcolor": "white",
             "linecolor": "white",
             "minorgridcolor": "white",
             "startlinecolor": "#2a3f5f"
            },
            "type": "carpet"
           }
          ],
          "choropleth": [
           {
            "colorbar": {
             "outlinewidth": 0,
             "ticks": ""
            },
            "type": "choropleth"
           }
          ],
          "contour": [
           {
            "colorbar": {
             "outlinewidth": 0,
             "ticks": ""
            },
            "colorscale": [
             [
              0,
              "#0d0887"
             ],
             [
              0.1111111111111111,
              "#46039f"
             ],
             [
              0.2222222222222222,
              "#7201a8"
             ],
             [
              0.3333333333333333,
              "#9c179e"
             ],
             [
              0.4444444444444444,
              "#bd3786"
             ],
             [
              0.5555555555555556,
              "#d8576b"
             ],
             [
              0.6666666666666666,
              "#ed7953"
             ],
             [
              0.7777777777777778,
              "#fb9f3a"
             ],
             [
              0.8888888888888888,
              "#fdca26"
             ],
             [
              1,
              "#f0f921"
             ]
            ],
            "type": "contour"
           }
          ],
          "contourcarpet": [
           {
            "colorbar": {
             "outlinewidth": 0,
             "ticks": ""
            },
            "type": "contourcarpet"
           }
          ],
          "heatmap": [
           {
            "colorbar": {
             "outlinewidth": 0,
             "ticks": ""
            },
            "colorscale": [
             [
              0,
              "#0d0887"
             ],
             [
              0.1111111111111111,
              "#46039f"
             ],
             [
              0.2222222222222222,
              "#7201a8"
             ],
             [
              0.3333333333333333,
              "#9c179e"
             ],
             [
              0.4444444444444444,
              "#bd3786"
             ],
             [
              0.5555555555555556,
              "#d8576b"
             ],
             [
              0.6666666666666666,
              "#ed7953"
             ],
             [
              0.7777777777777778,
              "#fb9f3a"
             ],
             [
              0.8888888888888888,
              "#fdca26"
             ],
             [
              1,
              "#f0f921"
             ]
            ],
            "type": "heatmap"
           }
          ],
          "heatmapgl": [
           {
            "colorbar": {
             "outlinewidth": 0,
             "ticks": ""
            },
            "colorscale": [
             [
              0,
              "#0d0887"
             ],
             [
              0.1111111111111111,
              "#46039f"
             ],
             [
              0.2222222222222222,
              "#7201a8"
             ],
             [
              0.3333333333333333,
              "#9c179e"
             ],
             [
              0.4444444444444444,
              "#bd3786"
             ],
             [
              0.5555555555555556,
              "#d8576b"
             ],
             [
              0.6666666666666666,
              "#ed7953"
             ],
             [
              0.7777777777777778,
              "#fb9f3a"
             ],
             [
              0.8888888888888888,
              "#fdca26"
             ],
             [
              1,
              "#f0f921"
             ]
            ],
            "type": "heatmapgl"
           }
          ],
          "histogram": [
           {
            "marker": {
             "pattern": {
              "fillmode": "overlay",
              "size": 10,
              "solidity": 0.2
             }
            },
            "type": "histogram"
           }
          ],
          "histogram2d": [
           {
            "colorbar": {
             "outlinewidth": 0,
             "ticks": ""
            },
            "colorscale": [
             [
              0,
              "#0d0887"
             ],
             [
              0.1111111111111111,
              "#46039f"
             ],
             [
              0.2222222222222222,
              "#7201a8"
             ],
             [
              0.3333333333333333,
              "#9c179e"
             ],
             [
              0.4444444444444444,
              "#bd3786"
             ],
             [
              0.5555555555555556,
              "#d8576b"
             ],
             [
              0.6666666666666666,
              "#ed7953"
             ],
             [
              0.7777777777777778,
              "#fb9f3a"
             ],
             [
              0.8888888888888888,
              "#fdca26"
             ],
             [
              1,
              "#f0f921"
             ]
            ],
            "type": "histogram2d"
           }
          ],
          "histogram2dcontour": [
           {
            "colorbar": {
             "outlinewidth": 0,
             "ticks": ""
            },
            "colorscale": [
             [
              0,
              "#0d0887"
             ],
             [
              0.1111111111111111,
              "#46039f"
             ],
             [
              0.2222222222222222,
              "#7201a8"
             ],
             [
              0.3333333333333333,
              "#9c179e"
             ],
             [
              0.4444444444444444,
              "#bd3786"
             ],
             [
              0.5555555555555556,
              "#d8576b"
             ],
             [
              0.6666666666666666,
              "#ed7953"
             ],
             [
              0.7777777777777778,
              "#fb9f3a"
             ],
             [
              0.8888888888888888,
              "#fdca26"
             ],
             [
              1,
              "#f0f921"
             ]
            ],
            "type": "histogram2dcontour"
           }
          ],
          "mesh3d": [
           {
            "colorbar": {
             "outlinewidth": 0,
             "ticks": ""
            },
            "type": "mesh3d"
           }
          ],
          "parcoords": [
           {
            "line": {
             "colorbar": {
              "outlinewidth": 0,
              "ticks": ""
             }
            },
            "type": "parcoords"
           }
          ],
          "pie": [
           {
            "automargin": true,
            "type": "pie"
           }
          ],
          "scatter": [
           {
            "marker": {
             "colorbar": {
              "outlinewidth": 0,
              "ticks": ""
             }
            },
            "type": "scatter"
           }
          ],
          "scatter3d": [
           {
            "line": {
             "colorbar": {
              "outlinewidth": 0,
              "ticks": ""
             }
            },
            "marker": {
             "colorbar": {
              "outlinewidth": 0,
              "ticks": ""
             }
            },
            "type": "scatter3d"
           }
          ],
          "scattercarpet": [
           {
            "marker": {
             "colorbar": {
              "outlinewidth": 0,
              "ticks": ""
             }
            },
            "type": "scattercarpet"
           }
          ],
          "scattergeo": [
           {
            "marker": {
             "colorbar": {
              "outlinewidth": 0,
              "ticks": ""
             }
            },
            "type": "scattergeo"
           }
          ],
          "scattergl": [
           {
            "marker": {
             "colorbar": {
              "outlinewidth": 0,
              "ticks": ""
             }
            },
            "type": "scattergl"
           }
          ],
          "scattermapbox": [
           {
            "marker": {
             "colorbar": {
              "outlinewidth": 0,
              "ticks": ""
             }
            },
            "type": "scattermapbox"
           }
          ],
          "scatterpolar": [
           {
            "marker": {
             "colorbar": {
              "outlinewidth": 0,
              "ticks": ""
             }
            },
            "type": "scatterpolar"
           }
          ],
          "scatterpolargl": [
           {
            "marker": {
             "colorbar": {
              "outlinewidth": 0,
              "ticks": ""
             }
            },
            "type": "scatterpolargl"
           }
          ],
          "scatterternary": [
           {
            "marker": {
             "colorbar": {
              "outlinewidth": 0,
              "ticks": ""
             }
            },
            "type": "scatterternary"
           }
          ],
          "surface": [
           {
            "colorbar": {
             "outlinewidth": 0,
             "ticks": ""
            },
            "colorscale": [
             [
              0,
              "#0d0887"
             ],
             [
              0.1111111111111111,
              "#46039f"
             ],
             [
              0.2222222222222222,
              "#7201a8"
             ],
             [
              0.3333333333333333,
              "#9c179e"
             ],
             [
              0.4444444444444444,
              "#bd3786"
             ],
             [
              0.5555555555555556,
              "#d8576b"
             ],
             [
              0.6666666666666666,
              "#ed7953"
             ],
             [
              0.7777777777777778,
              "#fb9f3a"
             ],
             [
              0.8888888888888888,
              "#fdca26"
             ],
             [
              1,
              "#f0f921"
             ]
            ],
            "type": "surface"
           }
          ],
          "table": [
           {
            "cells": {
             "fill": {
              "color": "#EBF0F8"
             },
             "line": {
              "color": "white"
             }
            },
            "header": {
             "fill": {
              "color": "#C8D4E3"
             },
             "line": {
              "color": "white"
             }
            },
            "type": "table"
           }
          ]
         },
         "layout": {
          "annotationdefaults": {
           "arrowcolor": "#2a3f5f",
           "arrowhead": 0,
           "arrowwidth": 1
          },
          "autotypenumbers": "strict",
          "coloraxis": {
           "colorbar": {
            "outlinewidth": 0,
            "ticks": ""
           }
          },
          "colorscale": {
           "diverging": [
            [
             0,
             "#8e0152"
            ],
            [
             0.1,
             "#c51b7d"
            ],
            [
             0.2,
             "#de77ae"
            ],
            [
             0.3,
             "#f1b6da"
            ],
            [
             0.4,
             "#fde0ef"
            ],
            [
             0.5,
             "#f7f7f7"
            ],
            [
             0.6,
             "#e6f5d0"
            ],
            [
             0.7,
             "#b8e186"
            ],
            [
             0.8,
             "#7fbc41"
            ],
            [
             0.9,
             "#4d9221"
            ],
            [
             1,
             "#276419"
            ]
           ],
           "sequential": [
            [
             0,
             "#0d0887"
            ],
            [
             0.1111111111111111,
             "#46039f"
            ],
            [
             0.2222222222222222,
             "#7201a8"
            ],
            [
             0.3333333333333333,
             "#9c179e"
            ],
            [
             0.4444444444444444,
             "#bd3786"
            ],
            [
             0.5555555555555556,
             "#d8576b"
            ],
            [
             0.6666666666666666,
             "#ed7953"
            ],
            [
             0.7777777777777778,
             "#fb9f3a"
            ],
            [
             0.8888888888888888,
             "#fdca26"
            ],
            [
             1,
             "#f0f921"
            ]
           ],
           "sequentialminus": [
            [
             0,
             "#0d0887"
            ],
            [
             0.1111111111111111,
             "#46039f"
            ],
            [
             0.2222222222222222,
             "#7201a8"
            ],
            [
             0.3333333333333333,
             "#9c179e"
            ],
            [
             0.4444444444444444,
             "#bd3786"
            ],
            [
             0.5555555555555556,
             "#d8576b"
            ],
            [
             0.6666666666666666,
             "#ed7953"
            ],
            [
             0.7777777777777778,
             "#fb9f3a"
            ],
            [
             0.8888888888888888,
             "#fdca26"
            ],
            [
             1,
             "#f0f921"
            ]
           ]
          },
          "colorway": [
           "#636efa",
           "#EF553B",
           "#00cc96",
           "#ab63fa",
           "#FFA15A",
           "#19d3f3",
           "#FF6692",
           "#B6E880",
           "#FF97FF",
           "#FECB52"
          ],
          "font": {
           "color": "#2a3f5f"
          },
          "geo": {
           "bgcolor": "white",
           "lakecolor": "white",
           "landcolor": "#E5ECF6",
           "showlakes": true,
           "showland": true,
           "subunitcolor": "white"
          },
          "hoverlabel": {
           "align": "left"
          },
          "hovermode": "closest",
          "mapbox": {
           "style": "light"
          },
          "paper_bgcolor": "white",
          "plot_bgcolor": "#E5ECF6",
          "polar": {
           "angularaxis": {
            "gridcolor": "white",
            "linecolor": "white",
            "ticks": ""
           },
           "bgcolor": "#E5ECF6",
           "radialaxis": {
            "gridcolor": "white",
            "linecolor": "white",
            "ticks": ""
           }
          },
          "scene": {
           "xaxis": {
            "backgroundcolor": "#E5ECF6",
            "gridcolor": "white",
            "gridwidth": 2,
            "linecolor": "white",
            "showbackground": true,
            "ticks": "",
            "zerolinecolor": "white"
           },
           "yaxis": {
            "backgroundcolor": "#E5ECF6",
            "gridcolor": "white",
            "gridwidth": 2,
            "linecolor": "white",
            "showbackground": true,
            "ticks": "",
            "zerolinecolor": "white"
           },
           "zaxis": {
            "backgroundcolor": "#E5ECF6",
            "gridcolor": "white",
            "gridwidth": 2,
            "linecolor": "white",
            "showbackground": true,
            "ticks": "",
            "zerolinecolor": "white"
           }
          },
          "shapedefaults": {
           "line": {
            "color": "#2a3f5f"
           }
          },
          "ternary": {
           "aaxis": {
            "gridcolor": "white",
            "linecolor": "white",
            "ticks": ""
           },
           "baxis": {
            "gridcolor": "white",
            "linecolor": "white",
            "ticks": ""
           },
           "bgcolor": "#E5ECF6",
           "caxis": {
            "gridcolor": "white",
            "linecolor": "white",
            "ticks": ""
           }
          },
          "title": {
           "x": 0.05
          },
          "xaxis": {
           "automargin": true,
           "gridcolor": "white",
           "linecolor": "white",
           "ticks": "",
           "title": {
            "standoff": 15
           },
           "zerolinecolor": "white",
           "zerolinewidth": 2
          },
          "yaxis": {
           "automargin": true,
           "gridcolor": "white",
           "linecolor": "white",
           "ticks": "",
           "title": {
            "standoff": 15
           },
           "zerolinecolor": "white",
           "zerolinewidth": 2
          }
         }
        },
        "title": {
         "text": "Marsa Giden Ülkeler"
        }
       }
      },
      "text/html": [
       "<div>                            <div id=\"9d2b3b8d-cfc9-41bd-91eb-8245c31e035f\" class=\"plotly-graph-div\" style=\"height:525px; width:100%;\"></div>            <script type=\"text/javascript\">                require([\"plotly\"], function(Plotly) {                    window.PLOTLYENV=window.PLOTLYENV || {};                                    if (document.getElementById(\"9d2b3b8d-cfc9-41bd-91eb-8245c31e035f\")) {                    Plotly.newPlot(                        \"9d2b3b8d-cfc9-41bd-91eb-8245c31e035f\",                        [{\"colorbar\":{\"title\":{\"text\":\"Marsa Giden \\u00dclkeler\"}},\"colorscale\":[[0.0,\"#440154\"],[0.1111111111111111,\"#482878\"],[0.2222222222222222,\"#3e4989\"],[0.3333333333333333,\"#31688e\"],[0.4444444444444444,\"#26828e\"],[0.5555555555555556,\"#1f9e89\"],[0.6666666666666666,\"#35b779\"],[0.7777777777777778,\"#6ece58\"],[0.8888888888888888,\"#b5de2b\"],[1.0,\"#fde725\"]],\"locationmode\":\"country names\",\"locations\":[\"CHINA\",\"UNITED STATES\",\"PHILIPPINES\",\"UNITED KINGDOM\",\"RUSSIA\",\"BRAZIL\",\"ITALY\",\"MEXICO\",\"INDIA\",\"FRANCE\",\"INDONESIA\",\"SPAIN\",\"UKRAINE\",\"CANADA\",\"MALAYSIA\",\"SOUTH KOREA\",\"GERMANY\",\"AUSTRALIA\",\"KAZAKHSTAN\",\"PERU\",\"TURKEY\",\"COLOMBIA\",\"POLAND\",\"ARGENTINA\",\"CHILE\",\"CZECHIA\",\"ECUADOR\",\"VIETNAM\",\"IRELAND\",\"TAIWAN\",\"IRAN\",\"SWEDEN\",\"ROMANIA\",\"HONG KONG SAR CHINA\",\"PORTUGAL\",\"BELARUS\",\"THAILAND\",\"BELGIUM\",\"GREECE\",\"BANGLADESH\",\"NETHERLANDS\",\"AFGHANISTAN\",\"SOUTH AFRICA\",\"EGYPT\",\"HUNGARY\",\"ALBANIA\",\"ALGERIA\",\"SAUDI ARABIA\",\"COSTA RICA\",\"AUSTRIA\",\"UNITED ARAB EMIRATES\",\"UZBEKISTAN\",\"ARMENIA\",\"NEW ZEALAND\",\"JAPAN\",\"ISRAEL\",\"SLOVAKIA\",\"SWITZERLAND\",\"SINGAPORE\",\"AZERBAIJAN\",\"SERBIA\",\"BOLIVIA\",\"AMERICAN SAMOA\",\"CROATIA\",\"VENEZUELA\",\"GUATEMALA\",\"NORWAY\",\"MOROCCO\",\"DENMARK\",\"IRAQ\",\"KYRGYZSTAN\",\"ANDORRA\",\"BULGARIA\",\"MOLDOVA\",\"FINLAND\",\"PAKISTAN\",\"LITHUANIA\",\"PUERTO RICO\",\"LEBANON\",\"GEORGIA\",\"EL SALVADOR\",\"HONDURAS\",\"BOSNIA & HERZEGOVINA\",\"PANAMA\",\"LATVIA\",\"DOMINICAN REPUBLIC\",\"JORDAN\",\"NEPAL\",\"ANGOLA\",\"SRI LANKA\",\"TUNISIA\",\"URUGUAY\",\"PARAGUAY\",\"TRINIDAD & TOBAGO\",\"ESTONIA\",\"ANGUILLA\",\"ANTARCTICA\",\"MYANMAR (BURMA)\",\"SLOVENIA\",\"KUWAIT\",\"BAHRAIN\",\"CYPRUS\",\"NICARAGUA\",\"NORTH MACEDONIA\",\"NORTH KOREA\",\"ARUBA\",\"BAHAMAS\",\"KOSOVO\",\"CANARY ISLANDS\",\"MACAO SAR CHINA\",\"ASCENSION ISLAND\",\"SYRIA\",\"QATAR\",\"ANTIGUA & BARBUDA\",\"MALTA\",\"CAMBODIA\",\"MALDIVES\",\"NIGERIA\",\"OMAN\",\"GUYANA\",\"BRUNEI\",\"PALESTINIAN TERRITORIES\",\"KENYA\",\"MONTENEGRO\",\"MAURITIUS\",\"LUXEMBOURG\",\"CHRISTMAS ISLAND\",\"ZIMBABWE\",\"CUBA\",\"ICELAND\",\"BELIZE\",\"R\\u00c9UNION\",\"MONGOLIA\",\"YEMEN\",\"LIBYA\",\"JAMAICA\",\"BRITISH VIRGIN ISLANDS\",\"GHANA\",\"SUDAN\",\"BARBADOS\",\"BHUTAN\",\"TAJIKISTAN\",\"ETHIOPIA\",\"TURKMENISTAN\",\"GUAM\",\"BERMUDA\",\"FIJI\",\"FRENCH POLYNESIA\",\"BOTSWANA\",\"BRITISH INDIAN OCEAN TERRITORY\",\"JERSEY\",\"CHAD\",\"ISLE OF MAN\",\"MADAGASCAR\",\"BENIN\",\"CARIBBEAN NETHERLANDS\",\"SURINAME\",\"ZAMBIA\",\"CAPE VERDE\",\"CAMEROON\",\"CEUTA & MELILLA\",\"CAYMAN ISLANDS\",\"GUADELOUPE\",\"UGANDA\",\"TANZANIA\",\"NIGER\",\"FRENCH GUIANA\",\"C\\u00d4TE D\\u2019IVOIRE\",\"BURUNDI\",\"MONACO\",\"CENTRAL AFRICAN REPUBLIC\",\"GUERNSEY\",\"GIBRALTAR\",\"FRENCH SOUTHERN TERRITORIES\",\"DOMINICA\",\"MARTINIQUE\",\"BURKINA FASO\",\"LAOS\",\"MOZAMBIQUE\",\"U.S. VIRGIN ISLANDS\",\"SENEGAL\",\"NEW CALEDONIA\",\"CURA\\u00c7AO\",\"NAMIBIA\",\"NORTHERN MARIANA ISLANDS\",\"COCOS (KEELING) ISLANDS\",\"SOMALIA\",\"GREENLAND\",\"VATICAN CITY\",\"CONGO - KINSHASA\",\"HAITI\",\"RWANDA\",\"COMOROS\",\"CONGO - BRAZZAVILLE\",\"COOK ISLANDS\",\"EQUATORIAL GUINEA\",\"SOUTH SUDAN\",\"PITCAIRN ISLANDS\",\"GABON\",\"MALI\",\"MALAWI\",\"GRENADA\",\"SAN MARINO\",\"ERITREA\",\"MARSHALL ISLANDS\",\"DJIBOUTI\",\"MAURITANIA\",\"SAMOA\",\"DIEGO GARCIA\",\"ESWATINI\",\"FAROE ISLANDS\",\"LIECHTENSTEIN\",\"U.S. OUTLYING ISLANDS\",\"PAPUA NEW GUINEA\",\"MAYOTTE\",\"WALLIS & FUTUNA\",\"VANUATU\",\"GUINEA\",\"SINT MAARTEN\",\"TOGO\",\"LIBERIA\",\"GAMBIA\",\"MICRONESIA\",\"PALAU\",\"TURKS & CAICOS ISLANDS\",\"FALKLAND ISLANDS\",\"ST. LUCIA\",\"ST. MARTIN\",\"WESTERN SAHARA\",\"SEYCHELLES\",\"SIERRA LEONE\",\"SOUTH GEORGIA & SOUTH SANDWICH ISLANDS\",\"TIMOR-LESTE\",\"MONTSERRAT\",\"ST. VINCENT & GRENADINES\",\"\\u00c5LAND ISLANDS\",\"LESOTHO\",\"TONGA\",\"S\\u00c3O TOM\\u00c9 & PR\\u00cdNCIPE\",\"ST. KITTS & NEVIS\",\"GUINEA-BISSAU\",\"ST. PIERRE & MIQUELON\",\"KIRIBATI\",\"TUVALU\",\"NORFOLK ISLAND\",\"SOLOMON ISLANDS\",\"ST. HELENA\",\"ST. BARTH\\u00c9LEMY\",\"NIUE\",\"TOKELAU\",\"SVALBARD & JAN MAYEN\",\"NAURU\",\"TRISTAN DA CUNHA\",\"PSEUDO-BIDI\"],\"reversescale\":true,\"text\":[\"CHINA\",\"UNITED STATES\",\"PHILIPPINES\",\"UNITED KINGDOM\",\"RUSSIA\",\"BRAZIL\",\"ITALY\",\"MEXICO\",\"INDIA\",\"FRANCE\",\"INDONESIA\",\"SPAIN\",\"UKRAINE\",\"CANADA\",\"MALAYSIA\",\"SOUTH KOREA\",\"GERMANY\",\"AUSTRALIA\",\"KAZAKHSTAN\",\"PERU\",\"TURKEY\",\"COLOMBIA\",\"POLAND\",\"ARGENTINA\",\"CHILE\",\"CZECHIA\",\"ECUADOR\",\"VIETNAM\",\"IRELAND\",\"TAIWAN\",\"IRAN\",\"SWEDEN\",\"ROMANIA\",\"HONG KONG SAR CHINA\",\"PORTUGAL\",\"BELARUS\",\"THAILAND\",\"BELGIUM\",\"GREECE\",\"BANGLADESH\",\"NETHERLANDS\",\"AFGHANISTAN\",\"SOUTH AFRICA\",\"EGYPT\",\"HUNGARY\",\"ALBANIA\",\"ALGERIA\",\"SAUDI ARABIA\",\"COSTA RICA\",\"AUSTRIA\",\"UNITED ARAB EMIRATES\",\"UZBEKISTAN\",\"ARMENIA\",\"NEW ZEALAND\",\"JAPAN\",\"ISRAEL\",\"SLOVAKIA\",\"SWITZERLAND\",\"SINGAPORE\",\"AZERBAIJAN\",\"SERBIA\",\"BOLIVIA\",\"AMERICAN SAMOA\",\"CROATIA\",\"VENEZUELA\",\"GUATEMALA\",\"NORWAY\",\"MOROCCO\",\"DENMARK\",\"IRAQ\",\"KYRGYZSTAN\",\"ANDORRA\",\"BULGARIA\",\"MOLDOVA\",\"FINLAND\",\"PAKISTAN\",\"LITHUANIA\",\"PUERTO RICO\",\"LEBANON\",\"GEORGIA\",\"EL SALVADOR\",\"HONDURAS\",\"BOSNIA & HERZEGOVINA\",\"PANAMA\",\"LATVIA\",\"DOMINICAN REPUBLIC\",\"JORDAN\",\"NEPAL\",\"ANGOLA\",\"SRI LANKA\",\"TUNISIA\",\"URUGUAY\",\"PARAGUAY\",\"TRINIDAD & TOBAGO\",\"ESTONIA\",\"ANGUILLA\",\"ANTARCTICA\",\"MYANMAR (BURMA)\",\"SLOVENIA\",\"KUWAIT\",\"BAHRAIN\",\"CYPRUS\",\"NICARAGUA\",\"NORTH MACEDONIA\",\"NORTH KOREA\",\"ARUBA\",\"BAHAMAS\",\"KOSOVO\",\"CANARY ISLANDS\",\"MACAO SAR CHINA\",\"ASCENSION ISLAND\",\"SYRIA\",\"QATAR\",\"ANTIGUA & BARBUDA\",\"MALTA\",\"CAMBODIA\",\"MALDIVES\",\"NIGERIA\",\"OMAN\",\"GUYANA\",\"BRUNEI\",\"PALESTINIAN TERRITORIES\",\"KENYA\",\"MONTENEGRO\",\"MAURITIUS\",\"LUXEMBOURG\",\"CHRISTMAS ISLAND\",\"ZIMBABWE\",\"CUBA\",\"ICELAND\",\"BELIZE\",\"R\\u00c9UNION\",\"MONGOLIA\",\"YEMEN\",\"LIBYA\",\"JAMAICA\",\"BRITISH VIRGIN ISLANDS\",\"GHANA\",\"SUDAN\",\"BARBADOS\",\"BHUTAN\",\"TAJIKISTAN\",\"ETHIOPIA\",\"TURKMENISTAN\",\"GUAM\",\"BERMUDA\",\"FIJI\",\"FRENCH POLYNESIA\",\"BOTSWANA\",\"BRITISH INDIAN OCEAN TERRITORY\",\"JERSEY\",\"CHAD\",\"ISLE OF MAN\",\"MADAGASCAR\",\"BENIN\",\"CARIBBEAN NETHERLANDS\",\"SURINAME\",\"ZAMBIA\",\"CAPE VERDE\",\"CAMEROON\",\"CEUTA & MELILLA\",\"CAYMAN ISLANDS\",\"GUADELOUPE\",\"UGANDA\",\"TANZANIA\",\"NIGER\",\"FRENCH GUIANA\",\"C\\u00d4TE D\\u2019IVOIRE\",\"BURUNDI\",\"MONACO\",\"CENTRAL AFRICAN REPUBLIC\",\"GUERNSEY\",\"GIBRALTAR\",\"FRENCH SOUTHERN TERRITORIES\",\"DOMINICA\",\"MARTINIQUE\",\"BURKINA FASO\",\"LAOS\",\"MOZAMBIQUE\",\"U.S. VIRGIN ISLANDS\",\"SENEGAL\",\"NEW CALEDONIA\",\"CURA\\u00c7AO\",\"NAMIBIA\",\"NORTHERN MARIANA ISLANDS\",\"COCOS (KEELING) ISLANDS\",\"SOMALIA\",\"GREENLAND\",\"VATICAN CITY\",\"CONGO - KINSHASA\",\"HAITI\",\"RWANDA\",\"COMOROS\",\"CONGO - BRAZZAVILLE\",\"COOK ISLANDS\",\"EQUATORIAL GUINEA\",\"SOUTH SUDAN\",\"PITCAIRN ISLANDS\",\"GABON\",\"MALI\",\"MALAWI\",\"GRENADA\",\"SAN MARINO\",\"ERITREA\",\"MARSHALL ISLANDS\",\"DJIBOUTI\",\"MAURITANIA\",\"SAMOA\",\"DIEGO GARCIA\",\"ESWATINI\",\"FAROE ISLANDS\",\"LIECHTENSTEIN\",\"U.S. OUTLYING ISLANDS\",\"PAPUA NEW GUINEA\",\"MAYOTTE\",\"WALLIS & FUTUNA\",\"VANUATU\",\"GUINEA\",\"SINT MAARTEN\",\"TOGO\",\"LIBERIA\",\"GAMBIA\",\"MICRONESIA\",\"PALAU\",\"TURKS & CAICOS ISLANDS\",\"FALKLAND ISLANDS\",\"ST. LUCIA\",\"ST. MARTIN\",\"WESTERN SAHARA\",\"SEYCHELLES\",\"SIERRA LEONE\",\"SOUTH GEORGIA & SOUTH SANDWICH ISLANDS\",\"TIMOR-LESTE\",\"MONTSERRAT\",\"ST. VINCENT & GRENADINES\",\"\\u00c5LAND ISLANDS\",\"LESOTHO\",\"TONGA\",\"S\\u00c3O TOM\\u00c9 & PR\\u00cdNCIPE\",\"ST. KITTS & NEVIS\",\"GUINEA-BISSAU\",\"ST. PIERRE & MIQUELON\",\"KIRIBATI\",\"TUVALU\",\"NORFOLK ISLAND\",\"SOLOMON ISLANDS\",\"ST. HELENA\",\"ST. BARTH\\u00c9LEMY\",\"NIUE\",\"TOKELAU\",\"SVALBARD & JAN MAYEN\",\"NAURU\",\"TRISTAN DA CUNHA\",\"PSEUDO-BIDI\"],\"type\":\"choropleth\",\"z\":[\"4075453\",\"2910194\",\"2243070\",\"1129682\",\"803629\",\"742280\",\"730027\",\"585516\",\"432151\",\"429958\",\"340273\",\"283081\",\"282144\",\"275753\",\"265683\",\"251966\",\"230308\",\"221566\",\"202395\",\"174476\",\"160005\",\"159664\",\"158567\",\"149019\",\"137884\",\"103213\",\"89595\",\"87318\",\"84249\",\"83383\",\"80042\",\"72765\",\"71204\",\"70765\",\"70738\",\"69877\",\"67475\",\"63011\",\"54283\",\"53006\",\"51788\",\"51136\",\"50549\",\"50137\",\"47292\",\"43257\",\"42778\",\"42309\",\"41532\",\"39659\",\"38889\",\"38678\",\"37996\",\"36121\",\"35635\",\"34845\",\"34360\",\"34161\",\"32072\",\"31987\",\"30003\",\"29764\",\"28221\",\"28027\",\"27600\",\"26887\",\"26594\",\"25829\",\"25148\",\"23968\",\"23852\",\"23624\",\"21989\",\"20418\",\"19955\",\"19916\",\"18953\",\"18729\",\"18647\",\"17918\",\"17691\",\"16508\",\"16175\",\"15628\",\"15093\",\"14862\",\"14835\",\"14424\",\"13890\",\"13154\",\"13023\",\"12553\",\"11849\",\"11191\",\"10869\",\"9212\",\"9041\",\"8833\",\"8492\",\"7763\",\"7489\",\"7445\",\"7405\",\"7349\",\"7064\",\"6923\",\"6841\",\"6650\",\"6437\",\"6226\",\"6155\",\"6052\",\"5959\",\"5682\",\"4882\",\"4751\",\"4647\",\"4634\",\"4588\",\"4293\",\"4272\",\"4185\",\"3879\",\"3785\",\"3033\",\"2887\",\"2833\",\"2775\",\"2698\",\"2678\",\"2670\",\"2649\",\"2588\",\"2502\",\"2431\",\"2227\",\"2207\",\"2179\",\"2126\",\"1794\",\"1751\",\"1660\",\"1601\",\"1589\",\"1547\",\"1482\",\"1392\",\"1348\",\"1296\",\"1254\",\"1213\",\"1203\",\"1180\",\"1176\",\"1056\",\"1037\",\"1021\",\"997\",\"986\",\"985\",\"984\",\"958\",\"931\",\"926\",\"924\",\"915\",\"854\",\"845\",\"829\",\"799\",\"793\",\"770\",\"768\",\"742\",\"736\",\"704\",\"699\",\"657\",\"640\",\"635\",\"634\",\"615\",\"614\",\"596\",\"596\",\"589\",\"514\",\"513\",\"509\",\"508\",\"474\",\"429\",\"427\",\"406\",\"404\",\"402\",\"401\",\"391\",\"389\",\"382\",\"380\",\"377\",\"369\",\"366\",\"356\",\"349\",\"321\",\"318\",\"316\",\"315\",\"311\",\"304\",\"287\",\"284\",\"282\",\"275\",\"266\",\"264\",\"259\",\"252\",\"246\",\"246\",\"245\",\"241\",\"226\",\"224\",\"223\",\"221\",\"201\",\"176\",\"170\",\"168\",\"162\",\"161\",\"150\",\"136\",\"135\",\"134\",\"127\",\"126\",\"125\",\"123\",\"121\",\"117\",\"115\",\"114\",\"102\",\"99\",\"94\",\"91\",\"91\",\"91\",\"67\",\"1\"]}],                        {\"geo\":{\"projection\":{\"type\":\"mercator\"},\"showframe\":false},\"template\":{\"data\":{\"bar\":[{\"error_x\":{\"color\":\"#2a3f5f\"},\"error_y\":{\"color\":\"#2a3f5f\"},\"marker\":{\"line\":{\"color\":\"#E5ECF6\",\"width\":0.5},\"pattern\":{\"fillmode\":\"overlay\",\"size\":10,\"solidity\":0.2}},\"type\":\"bar\"}],\"barpolar\":[{\"marker\":{\"line\":{\"color\":\"#E5ECF6\",\"width\":0.5},\"pattern\":{\"fillmode\":\"overlay\",\"size\":10,\"solidity\":0.2}},\"type\":\"barpolar\"}],\"carpet\":[{\"aaxis\":{\"endlinecolor\":\"#2a3f5f\",\"gridcolor\":\"white\",\"linecolor\":\"white\",\"minorgridcolor\":\"white\",\"startlinecolor\":\"#2a3f5f\"},\"baxis\":{\"endlinecolor\":\"#2a3f5f\",\"gridcolor\":\"white\",\"linecolor\":\"white\",\"minorgridcolor\":\"white\",\"startlinecolor\":\"#2a3f5f\"},\"type\":\"carpet\"}],\"choropleth\":[{\"colorbar\":{\"outlinewidth\":0,\"ticks\":\"\"},\"type\":\"choropleth\"}],\"contour\":[{\"colorbar\":{\"outlinewidth\":0,\"ticks\":\"\"},\"colorscale\":[[0.0,\"#0d0887\"],[0.1111111111111111,\"#46039f\"],[0.2222222222222222,\"#7201a8\"],[0.3333333333333333,\"#9c179e\"],[0.4444444444444444,\"#bd3786\"],[0.5555555555555556,\"#d8576b\"],[0.6666666666666666,\"#ed7953\"],[0.7777777777777778,\"#fb9f3a\"],[0.8888888888888888,\"#fdca26\"],[1.0,\"#f0f921\"]],\"type\":\"contour\"}],\"contourcarpet\":[{\"colorbar\":{\"outlinewidth\":0,\"ticks\":\"\"},\"type\":\"contourcarpet\"}],\"heatmap\":[{\"colorbar\":{\"outlinewidth\":0,\"ticks\":\"\"},\"colorscale\":[[0.0,\"#0d0887\"],[0.1111111111111111,\"#46039f\"],[0.2222222222222222,\"#7201a8\"],[0.3333333333333333,\"#9c179e\"],[0.4444444444444444,\"#bd3786\"],[0.5555555555555556,\"#d8576b\"],[0.6666666666666666,\"#ed7953\"],[0.7777777777777778,\"#fb9f3a\"],[0.8888888888888888,\"#fdca26\"],[1.0,\"#f0f921\"]],\"type\":\"heatmap\"}],\"heatmapgl\":[{\"colorbar\":{\"outlinewidth\":0,\"ticks\":\"\"},\"colorscale\":[[0.0,\"#0d0887\"],[0.1111111111111111,\"#46039f\"],[0.2222222222222222,\"#7201a8\"],[0.3333333333333333,\"#9c179e\"],[0.4444444444444444,\"#bd3786\"],[0.5555555555555556,\"#d8576b\"],[0.6666666666666666,\"#ed7953\"],[0.7777777777777778,\"#fb9f3a\"],[0.8888888888888888,\"#fdca26\"],[1.0,\"#f0f921\"]],\"type\":\"heatmapgl\"}],\"histogram\":[{\"marker\":{\"pattern\":{\"fillmode\":\"overlay\",\"size\":10,\"solidity\":0.2}},\"type\":\"histogram\"}],\"histogram2d\":[{\"colorbar\":{\"outlinewidth\":0,\"ticks\":\"\"},\"colorscale\":[[0.0,\"#0d0887\"],[0.1111111111111111,\"#46039f\"],[0.2222222222222222,\"#7201a8\"],[0.3333333333333333,\"#9c179e\"],[0.4444444444444444,\"#bd3786\"],[0.5555555555555556,\"#d8576b\"],[0.6666666666666666,\"#ed7953\"],[0.7777777777777778,\"#fb9f3a\"],[0.8888888888888888,\"#fdca26\"],[1.0,\"#f0f921\"]],\"type\":\"histogram2d\"}],\"histogram2dcontour\":[{\"colorbar\":{\"outlinewidth\":0,\"ticks\":\"\"},\"colorscale\":[[0.0,\"#0d0887\"],[0.1111111111111111,\"#46039f\"],[0.2222222222222222,\"#7201a8\"],[0.3333333333333333,\"#9c179e\"],[0.4444444444444444,\"#bd3786\"],[0.5555555555555556,\"#d8576b\"],[0.6666666666666666,\"#ed7953\"],[0.7777777777777778,\"#fb9f3a\"],[0.8888888888888888,\"#fdca26\"],[1.0,\"#f0f921\"]],\"type\":\"histogram2dcontour\"}],\"mesh3d\":[{\"colorbar\":{\"outlinewidth\":0,\"ticks\":\"\"},\"type\":\"mesh3d\"}],\"parcoords\":[{\"line\":{\"colorbar\":{\"outlinewidth\":0,\"ticks\":\"\"}},\"type\":\"parcoords\"}],\"pie\":[{\"automargin\":true,\"type\":\"pie\"}],\"scatter\":[{\"marker\":{\"colorbar\":{\"outlinewidth\":0,\"ticks\":\"\"}},\"type\":\"scatter\"}],\"scatter3d\":[{\"line\":{\"colorbar\":{\"outlinewidth\":0,\"ticks\":\"\"}},\"marker\":{\"colorbar\":{\"outlinewidth\":0,\"ticks\":\"\"}},\"type\":\"scatter3d\"}],\"scattercarpet\":[{\"marker\":{\"colorbar\":{\"outlinewidth\":0,\"ticks\":\"\"}},\"type\":\"scattercarpet\"}],\"scattergeo\":[{\"marker\":{\"colorbar\":{\"outlinewidth\":0,\"ticks\":\"\"}},\"type\":\"scattergeo\"}],\"scattergl\":[{\"marker\":{\"colorbar\":{\"outlinewidth\":0,\"ticks\":\"\"}},\"type\":\"scattergl\"}],\"scattermapbox\":[{\"marker\":{\"colorbar\":{\"outlinewidth\":0,\"ticks\":\"\"}},\"type\":\"scattermapbox\"}],\"scatterpolar\":[{\"marker\":{\"colorbar\":{\"outlinewidth\":0,\"ticks\":\"\"}},\"type\":\"scatterpolar\"}],\"scatterpolargl\":[{\"marker\":{\"colorbar\":{\"outlinewidth\":0,\"ticks\":\"\"}},\"type\":\"scatterpolargl\"}],\"scatterternary\":[{\"marker\":{\"colorbar\":{\"outlinewidth\":0,\"ticks\":\"\"}},\"type\":\"scatterternary\"}],\"surface\":[{\"colorbar\":{\"outlinewidth\":0,\"ticks\":\"\"},\"colorscale\":[[0.0,\"#0d0887\"],[0.1111111111111111,\"#46039f\"],[0.2222222222222222,\"#7201a8\"],[0.3333333333333333,\"#9c179e\"],[0.4444444444444444,\"#bd3786\"],[0.5555555555555556,\"#d8576b\"],[0.6666666666666666,\"#ed7953\"],[0.7777777777777778,\"#fb9f3a\"],[0.8888888888888888,\"#fdca26\"],[1.0,\"#f0f921\"]],\"type\":\"surface\"}],\"table\":[{\"cells\":{\"fill\":{\"color\":\"#EBF0F8\"},\"line\":{\"color\":\"white\"}},\"header\":{\"fill\":{\"color\":\"#C8D4E3\"},\"line\":{\"color\":\"white\"}},\"type\":\"table\"}]},\"layout\":{\"annotationdefaults\":{\"arrowcolor\":\"#2a3f5f\",\"arrowhead\":0,\"arrowwidth\":1},\"autotypenumbers\":\"strict\",\"coloraxis\":{\"colorbar\":{\"outlinewidth\":0,\"ticks\":\"\"}},\"colorscale\":{\"diverging\":[[0,\"#8e0152\"],[0.1,\"#c51b7d\"],[0.2,\"#de77ae\"],[0.3,\"#f1b6da\"],[0.4,\"#fde0ef\"],[0.5,\"#f7f7f7\"],[0.6,\"#e6f5d0\"],[0.7,\"#b8e186\"],[0.8,\"#7fbc41\"],[0.9,\"#4d9221\"],[1,\"#276419\"]],\"sequential\":[[0.0,\"#0d0887\"],[0.1111111111111111,\"#46039f\"],[0.2222222222222222,\"#7201a8\"],[0.3333333333333333,\"#9c179e\"],[0.4444444444444444,\"#bd3786\"],[0.5555555555555556,\"#d8576b\"],[0.6666666666666666,\"#ed7953\"],[0.7777777777777778,\"#fb9f3a\"],[0.8888888888888888,\"#fdca26\"],[1.0,\"#f0f921\"]],\"sequentialminus\":[[0.0,\"#0d0887\"],[0.1111111111111111,\"#46039f\"],[0.2222222222222222,\"#7201a8\"],[0.3333333333333333,\"#9c179e\"],[0.4444444444444444,\"#bd3786\"],[0.5555555555555556,\"#d8576b\"],[0.6666666666666666,\"#ed7953\"],[0.7777777777777778,\"#fb9f3a\"],[0.8888888888888888,\"#fdca26\"],[1.0,\"#f0f921\"]]},\"colorway\":[\"#636efa\",\"#EF553B\",\"#00cc96\",\"#ab63fa\",\"#FFA15A\",\"#19d3f3\",\"#FF6692\",\"#B6E880\",\"#FF97FF\",\"#FECB52\"],\"font\":{\"color\":\"#2a3f5f\"},\"geo\":{\"bgcolor\":\"white\",\"lakecolor\":\"white\",\"landcolor\":\"#E5ECF6\",\"showlakes\":true,\"showland\":true,\"subunitcolor\":\"white\"},\"hoverlabel\":{\"align\":\"left\"},\"hovermode\":\"closest\",\"mapbox\":{\"style\":\"light\"},\"paper_bgcolor\":\"white\",\"plot_bgcolor\":\"#E5ECF6\",\"polar\":{\"angularaxis\":{\"gridcolor\":\"white\",\"linecolor\":\"white\",\"ticks\":\"\"},\"bgcolor\":\"#E5ECF6\",\"radialaxis\":{\"gridcolor\":\"white\",\"linecolor\":\"white\",\"ticks\":\"\"}},\"scene\":{\"xaxis\":{\"backgroundcolor\":\"#E5ECF6\",\"gridcolor\":\"white\",\"gridwidth\":2,\"linecolor\":\"white\",\"showbackground\":true,\"ticks\":\"\",\"zerolinecolor\":\"white\"},\"yaxis\":{\"backgroundcolor\":\"#E5ECF6\",\"gridcolor\":\"white\",\"gridwidth\":2,\"linecolor\":\"white\",\"showbackground\":true,\"ticks\":\"\",\"zerolinecolor\":\"white\"},\"zaxis\":{\"backgroundcolor\":\"#E5ECF6\",\"gridcolor\":\"white\",\"gridwidth\":2,\"linecolor\":\"white\",\"showbackground\":true,\"ticks\":\"\",\"zerolinecolor\":\"white\"}},\"shapedefaults\":{\"line\":{\"color\":\"#2a3f5f\"}},\"ternary\":{\"aaxis\":{\"gridcolor\":\"white\",\"linecolor\":\"white\",\"ticks\":\"\"},\"baxis\":{\"gridcolor\":\"white\",\"linecolor\":\"white\",\"ticks\":\"\"},\"bgcolor\":\"#E5ECF6\",\"caxis\":{\"gridcolor\":\"white\",\"linecolor\":\"white\",\"ticks\":\"\"}},\"title\":{\"x\":0.05},\"xaxis\":{\"automargin\":true,\"gridcolor\":\"white\",\"linecolor\":\"white\",\"ticks\":\"\",\"title\":{\"standoff\":15},\"zerolinecolor\":\"white\",\"zerolinewidth\":2},\"yaxis\":{\"automargin\":true,\"gridcolor\":\"white\",\"linecolor\":\"white\",\"ticks\":\"\",\"title\":{\"standoff\":15},\"zerolinecolor\":\"white\",\"zerolinewidth\":2}}},\"title\":{\"text\":\"Marsa Giden \\u00dclkeler\"}},                        {\"responsive\": true}                    ).then(function(){\n",
       "                            \n",
       "var gd = document.getElementById('9d2b3b8d-cfc9-41bd-91eb-8245c31e035f');\n",
       "var x = new MutationObserver(function (mutations, observer) {{\n",
       "        var display = window.getComputedStyle(gd).display;\n",
       "        if (!display || display === 'none') {{\n",
       "            console.log([gd, 'removed!']);\n",
       "            Plotly.purge(gd);\n",
       "            observer.disconnect();\n",
       "        }}\n",
       "}});\n",
       "\n",
       "// Listen for the removal of the full notebook cells\n",
       "var notebookContainer = gd.closest('#notebook-container');\n",
       "if (notebookContainer) {{\n",
       "    x.observe(notebookContainer, {childList: true});\n",
       "}}\n",
       "\n",
       "// Listen for the clearing of the current output cell\n",
       "var outputEl = gd.closest('.output');\n",
       "if (outputEl) {{\n",
       "    x.observe(outputEl, {childList: true});\n",
       "}}\n",
       "\n",
       "                        })                };                });            </script>        </div>"
      ]
     },
     "metadata": {},
     "output_type": "display_data"
    }
   ],
   "source": [
    "choromap=go.Figure(data=[data2],layout=layout)\n",
    "iplot(choromap, validate=False)"
   ]
  },
  {
   "cell_type": "code",
   "execution_count": null,
   "metadata": {},
   "outputs": [],
   "source": []
  }
 ],
 "metadata": {
  "kernelspec": {
   "display_name": "Python 3",
   "language": "python",
   "name": "python3"
  },
  "language_info": {
   "codemirror_mode": {
    "name": "ipython",
    "version": 3
   },
   "file_extension": ".py",
   "mimetype": "text/x-python",
   "name": "python",
   "nbconvert_exporter": "python",
   "pygments_lexer": "ipython3",
   "version": "3.8.5"
  }
 },
 "nbformat": 4,
 "nbformat_minor": 4
}
